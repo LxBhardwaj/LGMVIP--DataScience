{
 "cells": [
  {
   "cell_type": "markdown",
   "id": "aefa5e3e",
   "metadata": {},
   "source": [
    "# *LetsGrowMore - Virtual Internship Program*\n",
    "#### *Data Science Tasks*\n",
    "\n",
    "### *Author: Laxman Kumar*\n",
    "\n",
    "### Task 2 - Stock Market Prediction And Forecasting Using Stacked LSTM\n",
    "\n",
    "Datasetlink : https://raw.githubusercontent.com/mwitiderrick/stockprice/master/NSE-TATAGLOBAL.csv"
   ]
  },
  {
   "cell_type": "markdown",
   "id": "ba4a5d50",
   "metadata": {},
   "source": [
    "***"
   ]
  },
  {
   "cell_type": "markdown",
   "id": "0d4dc196",
   "metadata": {},
   "source": [
    "# Import modules"
   ]
  },
  {
   "cell_type": "code",
   "execution_count": 1,
   "id": "d5439a41",
   "metadata": {},
   "outputs": [],
   "source": [
    "import pandas as pd\n",
    "import numpy as np\n",
    "import math\n",
    "import matplotlib.pyplot as plt\n",
    "from sklearn.preprocessing import MinMaxScaler\n",
    "from sklearn.metrics import mean_squared_error\n",
    "import tensorflow as tf\n",
    "from tensorflow.python.keras.models import Sequential\n",
    "from tensorflow.python.keras.layers import Dense\n",
    "from tensorflow.python.keras.layers import LSTM\n",
    "%matplotlib inline"
   ]
  },
  {
   "cell_type": "markdown",
   "id": "4b35ac46",
   "metadata": {},
   "source": [
    "# Loading the Dataset"
   ]
  },
  {
   "cell_type": "code",
   "execution_count": 2,
   "id": "ad55fa2d",
   "metadata": {},
   "outputs": [
    {
     "data": {
      "text/html": [
       "<div>\n",
       "<style scoped>\n",
       "    .dataframe tbody tr th:only-of-type {\n",
       "        vertical-align: middle;\n",
       "    }\n",
       "\n",
       "    .dataframe tbody tr th {\n",
       "        vertical-align: top;\n",
       "    }\n",
       "\n",
       "    .dataframe thead th {\n",
       "        text-align: right;\n",
       "    }\n",
       "</style>\n",
       "<table border=\"1\" class=\"dataframe\">\n",
       "  <thead>\n",
       "    <tr style=\"text-align: right;\">\n",
       "      <th></th>\n",
       "      <th>Date</th>\n",
       "      <th>Open</th>\n",
       "      <th>High</th>\n",
       "      <th>Low</th>\n",
       "      <th>Last</th>\n",
       "      <th>Close</th>\n",
       "      <th>Total Trade Quantity</th>\n",
       "      <th>Turnover (Lacs)</th>\n",
       "    </tr>\n",
       "  </thead>\n",
       "  <tbody>\n",
       "    <tr>\n",
       "      <th>2034</th>\n",
       "      <td>2010-07-21</td>\n",
       "      <td>122.1</td>\n",
       "      <td>123.00</td>\n",
       "      <td>121.05</td>\n",
       "      <td>121.10</td>\n",
       "      <td>121.55</td>\n",
       "      <td>658666</td>\n",
       "      <td>803.56</td>\n",
       "    </tr>\n",
       "    <tr>\n",
       "      <th>2033</th>\n",
       "      <td>2010-07-22</td>\n",
       "      <td>120.3</td>\n",
       "      <td>122.00</td>\n",
       "      <td>120.25</td>\n",
       "      <td>120.75</td>\n",
       "      <td>120.90</td>\n",
       "      <td>293312</td>\n",
       "      <td>355.17</td>\n",
       "    </tr>\n",
       "    <tr>\n",
       "      <th>2032</th>\n",
       "      <td>2010-07-23</td>\n",
       "      <td>121.8</td>\n",
       "      <td>121.95</td>\n",
       "      <td>120.25</td>\n",
       "      <td>120.35</td>\n",
       "      <td>120.65</td>\n",
       "      <td>281312</td>\n",
       "      <td>340.31</td>\n",
       "    </tr>\n",
       "    <tr>\n",
       "      <th>2031</th>\n",
       "      <td>2010-07-26</td>\n",
       "      <td>120.1</td>\n",
       "      <td>121.00</td>\n",
       "      <td>117.10</td>\n",
       "      <td>117.10</td>\n",
       "      <td>117.60</td>\n",
       "      <td>658440</td>\n",
       "      <td>780.01</td>\n",
       "    </tr>\n",
       "    <tr>\n",
       "      <th>2030</th>\n",
       "      <td>2010-07-27</td>\n",
       "      <td>117.6</td>\n",
       "      <td>119.50</td>\n",
       "      <td>112.00</td>\n",
       "      <td>118.80</td>\n",
       "      <td>118.65</td>\n",
       "      <td>586100</td>\n",
       "      <td>694.98</td>\n",
       "    </tr>\n",
       "  </tbody>\n",
       "</table>\n",
       "</div>"
      ],
      "text/plain": [
       "            Date   Open    High     Low    Last   Close  Total Trade Quantity  \\\n",
       "2034  2010-07-21  122.1  123.00  121.05  121.10  121.55                658666   \n",
       "2033  2010-07-22  120.3  122.00  120.25  120.75  120.90                293312   \n",
       "2032  2010-07-23  121.8  121.95  120.25  120.35  120.65                281312   \n",
       "2031  2010-07-26  120.1  121.00  117.10  117.10  117.60                658440   \n",
       "2030  2010-07-27  117.6  119.50  112.00  118.80  118.65                586100   \n",
       "\n",
       "      Turnover (Lacs)  \n",
       "2034           803.56  \n",
       "2033           355.17  \n",
       "2032           340.31  \n",
       "2031           780.01  \n",
       "2030           694.98  "
      ]
     },
     "execution_count": 2,
     "metadata": {},
     "output_type": "execute_result"
    }
   ],
   "source": [
    "df = pd.read_csv('https://raw.githubusercontent.com/mwitiderrick/stockprice/master/NSE-TATAGLOBAL.csv')\n",
    "df = df.iloc[::-1]\n",
    "df.head()"
   ]
  },
  {
   "cell_type": "code",
   "execution_count": 3,
   "id": "641fc8dd",
   "metadata": {},
   "outputs": [
    {
     "data": {
      "text/html": [
       "<div>\n",
       "<style scoped>\n",
       "    .dataframe tbody tr th:only-of-type {\n",
       "        vertical-align: middle;\n",
       "    }\n",
       "\n",
       "    .dataframe tbody tr th {\n",
       "        vertical-align: top;\n",
       "    }\n",
       "\n",
       "    .dataframe thead th {\n",
       "        text-align: right;\n",
       "    }\n",
       "</style>\n",
       "<table border=\"1\" class=\"dataframe\">\n",
       "  <thead>\n",
       "    <tr style=\"text-align: right;\">\n",
       "      <th></th>\n",
       "      <th>Date</th>\n",
       "      <th>Open</th>\n",
       "      <th>High</th>\n",
       "      <th>Low</th>\n",
       "      <th>Last</th>\n",
       "      <th>Close</th>\n",
       "      <th>Total Trade Quantity</th>\n",
       "      <th>Turnover (Lacs)</th>\n",
       "    </tr>\n",
       "  </thead>\n",
       "  <tbody>\n",
       "    <tr>\n",
       "      <th>4</th>\n",
       "      <td>2018-09-24</td>\n",
       "      <td>233.55</td>\n",
       "      <td>239.20</td>\n",
       "      <td>230.75</td>\n",
       "      <td>234.00</td>\n",
       "      <td>233.30</td>\n",
       "      <td>3423509</td>\n",
       "      <td>7999.55</td>\n",
       "    </tr>\n",
       "    <tr>\n",
       "      <th>3</th>\n",
       "      <td>2018-09-25</td>\n",
       "      <td>233.30</td>\n",
       "      <td>236.75</td>\n",
       "      <td>232.00</td>\n",
       "      <td>236.25</td>\n",
       "      <td>236.10</td>\n",
       "      <td>2349368</td>\n",
       "      <td>5503.90</td>\n",
       "    </tr>\n",
       "    <tr>\n",
       "      <th>2</th>\n",
       "      <td>2018-09-26</td>\n",
       "      <td>240.00</td>\n",
       "      <td>240.00</td>\n",
       "      <td>232.50</td>\n",
       "      <td>235.00</td>\n",
       "      <td>234.25</td>\n",
       "      <td>2240909</td>\n",
       "      <td>5248.60</td>\n",
       "    </tr>\n",
       "    <tr>\n",
       "      <th>1</th>\n",
       "      <td>2018-09-27</td>\n",
       "      <td>234.55</td>\n",
       "      <td>236.80</td>\n",
       "      <td>231.10</td>\n",
       "      <td>233.80</td>\n",
       "      <td>233.25</td>\n",
       "      <td>5082859</td>\n",
       "      <td>11859.95</td>\n",
       "    </tr>\n",
       "    <tr>\n",
       "      <th>0</th>\n",
       "      <td>2018-09-28</td>\n",
       "      <td>234.05</td>\n",
       "      <td>235.95</td>\n",
       "      <td>230.20</td>\n",
       "      <td>233.50</td>\n",
       "      <td>233.75</td>\n",
       "      <td>3069914</td>\n",
       "      <td>7162.35</td>\n",
       "    </tr>\n",
       "  </tbody>\n",
       "</table>\n",
       "</div>"
      ],
      "text/plain": [
       "         Date    Open    High     Low    Last   Close  Total Trade Quantity  \\\n",
       "4  2018-09-24  233.55  239.20  230.75  234.00  233.30               3423509   \n",
       "3  2018-09-25  233.30  236.75  232.00  236.25  236.10               2349368   \n",
       "2  2018-09-26  240.00  240.00  232.50  235.00  234.25               2240909   \n",
       "1  2018-09-27  234.55  236.80  231.10  233.80  233.25               5082859   \n",
       "0  2018-09-28  234.05  235.95  230.20  233.50  233.75               3069914   \n",
       "\n",
       "   Turnover (Lacs)  \n",
       "4          7999.55  \n",
       "3          5503.90  \n",
       "2          5248.60  \n",
       "1         11859.95  \n",
       "0          7162.35  "
      ]
     },
     "execution_count": 3,
     "metadata": {},
     "output_type": "execute_result"
    }
   ],
   "source": [
    "df.tail()"
   ]
  },
  {
   "cell_type": "markdown",
   "id": "48f10ddc",
   "metadata": {},
   "source": [
    "# Data Processing"
   ]
  },
  {
   "cell_type": "code",
   "execution_count": 4,
   "id": "2105d237",
   "metadata": {},
   "outputs": [
    {
     "data": {
      "text/plain": [
       "Date                    0\n",
       "Open                    0\n",
       "High                    0\n",
       "Low                     0\n",
       "Last                    0\n",
       "Close                   0\n",
       "Total Trade Quantity    0\n",
       "Turnover (Lacs)         0\n",
       "dtype: int64"
      ]
     },
     "execution_count": 4,
     "metadata": {},
     "output_type": "execute_result"
    }
   ],
   "source": [
    "df.isnull().sum()"
   ]
  },
  {
   "cell_type": "code",
   "execution_count": 5,
   "id": "37ee4476",
   "metadata": {},
   "outputs": [
    {
     "data": {
      "text/plain": [
       "(2035, 8)"
      ]
     },
     "execution_count": 5,
     "metadata": {},
     "output_type": "execute_result"
    }
   ],
   "source": [
    "df.shape"
   ]
  },
  {
   "cell_type": "code",
   "execution_count": 6,
   "id": "bdb28ba7",
   "metadata": {},
   "outputs": [],
   "source": [
    "df_high = df.reset_index()['High']"
   ]
  },
  {
   "cell_type": "code",
   "execution_count": 7,
   "id": "964f0115",
   "metadata": {},
   "outputs": [
    {
     "data": {
      "text/plain": [
       "[<matplotlib.lines.Line2D at 0x13bc46691c0>]"
      ]
     },
     "execution_count": 7,
     "metadata": {},
     "output_type": "execute_result"
    },
    {
     "data": {
      "image/png": "[encoded data removed]",
      "text/plain": [
       "<Figure size 432x288 with 1 Axes>"
      ]
     },
     "metadata": {
      "needs_background": "light"
     },
     "output_type": "display_data"
    }
   ],
   "source": [
    "plt.plot(df_high)"
   ]
  },
  {
   "cell_type": "code",
   "execution_count": 8,
   "id": "99b1edaa",
   "metadata": {},
   "outputs": [],
   "source": [
    "scaler = MinMaxScaler(feature_range = (0,1))\n",
    "df_high = scaler.fit_transform(np.array(df_high).reshape(-1,1))"
   ]
  },
  {
   "cell_type": "code",
   "execution_count": 9,
   "id": "07fa7238",
   "metadata": {},
   "outputs": [
    {
     "data": {
      "text/plain": [
       "(2035, 1)"
      ]
     },
     "execution_count": 9,
     "metadata": {},
     "output_type": "execute_result"
    }
   ],
   "source": [
    "df_high.shape"
   ]
  },
  {
   "cell_type": "code",
   "execution_count": 10,
   "id": "b979458a",
   "metadata": {},
   "outputs": [
    {
     "data": {
      "text/plain": [
       "array([[0.16344786],\n",
       "       [0.15938199],\n",
       "       [0.15917869],\n",
       "       ...,\n",
       "       [0.6391543 ],\n",
       "       [0.62614353],\n",
       "       [0.62268754]])"
      ]
     },
     "execution_count": 10,
     "metadata": {},
     "output_type": "execute_result"
    }
   ],
   "source": [
    "df_high"
   ]
  },
  {
   "cell_type": "markdown",
   "id": "d60e3751",
   "metadata": {},
   "source": [
    "# Split the Data"
   ]
  },
  {
   "cell_type": "code",
   "execution_count": 11,
   "id": "e72ec54f",
   "metadata": {},
   "outputs": [],
   "source": [
    "training_size = int(len(df_high) * 0.75)\n",
    "test_size = len(df_high) - training_size\n",
    "train_data, test_data = df_high[0:training_size,:], df_high[training_size:len(df_high),:1]"
   ]
  },
  {
   "cell_type": "code",
   "execution_count": 12,
   "id": "9ea19ddc",
   "metadata": {},
   "outputs": [
    {
     "data": {
      "text/plain": [
       "(1526, 509)"
      ]
     },
     "execution_count": 12,
     "metadata": {},
     "output_type": "execute_result"
    }
   ],
   "source": [
    "training_size,test_size"
   ]
  },
  {
   "cell_type": "code",
   "execution_count": 13,
   "id": "76bc1e91",
   "metadata": {},
   "outputs": [],
   "source": [
    "def create_dataset(dataset, time_step = 1):\n",
    "    dataX, dataY = [], []\n",
    "    for i in range(len(dataset) - time_step - 1):\n",
    "        a = dataset[i:(i+time_step), 0]\n",
    "        dataX.append(a)\n",
    "        dataY.append(dataset[i+time_step, 0])\n",
    "        \n",
    "    return np.array(dataX), np.array(dataY)"
   ]
  },
  {
   "cell_type": "code",
   "execution_count": 14,
   "id": "693c0326",
   "metadata": {},
   "outputs": [],
   "source": [
    "time_step = 100\n",
    "x_train, y_train = create_dataset(train_data, time_step)\n",
    "x_test, y_test = create_dataset(test_data, time_step)"
   ]
  },
  {
   "cell_type": "code",
   "execution_count": 15,
   "id": "9db94ee1",
   "metadata": {},
   "outputs": [],
   "source": [
    "#Reshape the input to be [samples, time steps, features]\n",
    "x_train = x_train.reshape(x_train.shape[0], x_train.shape[1], 1)\n",
    "x_test = x_test.reshape(x_test.shape[0], x_test.shape[1], 1)"
   ]
  },
  {
   "cell_type": "code",
   "execution_count": 16,
   "id": "7fe8cdaf",
   "metadata": {},
   "outputs": [
    {
     "name": "stdout",
     "output_type": "stream",
     "text": [
      "(1425, 100, 1)\n",
      "(1425,)\n"
     ]
    },
    {
     "data": {
      "text/plain": [
       "(None, None)"
      ]
     },
     "execution_count": 16,
     "metadata": {},
     "output_type": "execute_result"
    }
   ],
   "source": [
    "print(x_train.shape), print(y_train.shape)"
   ]
  },
  {
   "cell_type": "code",
   "execution_count": 17,
   "id": "90e9c02c",
   "metadata": {},
   "outputs": [
    {
     "name": "stdout",
     "output_type": "stream",
     "text": [
      "(408, 100, 1)\n",
      "(408,)\n"
     ]
    },
    {
     "data": {
      "text/plain": [
       "(None, None)"
      ]
     },
     "execution_count": 17,
     "metadata": {},
     "output_type": "execute_result"
    }
   ],
   "source": [
    "print(x_test.shape), print(y_test.shape)"
   ]
  },
  {
   "cell_type": "markdown",
   "id": "953cd8b5",
   "metadata": {},
   "source": [
    "# Create the LSTM Model"
   ]
  },
  {
   "cell_type": "code",
   "execution_count": 18,
   "id": "34adaa77",
   "metadata": {},
   "outputs": [],
   "source": [
    "model = Sequential()\n",
    "model.add(LSTM(50, return_sequences = True, input_shape = (100,1)))\n",
    "model.add(LSTM(50, return_sequences = True))\n",
    "model.add(LSTM(50))\n",
    "model.add(Dense(1))\n",
    "model.compile(loss = 'mean_squared_error', optimizer = 'adam')"
   ]
  },
  {
   "cell_type": "code",
   "execution_count": 19,
   "id": "f77b59b1",
   "metadata": {},
   "outputs": [
    {
     "name": "stdout",
     "output_type": "stream",
     "text": [
      "Model: \"sequential\"\n",
      "_________________________________________________________________\n",
      "Layer (type)                 Output Shape              Param #   \n",
      "=================================================================\n",
      "lstm (LSTM)                  (None, 100, 50)           10400     \n",
      "_________________________________________________________________\n",
      "lstm_1 (LSTM)                (None, 100, 50)           20200     \n",
      "_________________________________________________________________\n",
      "lstm_2 (LSTM)                (None, 50)                20200     \n",
      "_________________________________________________________________\n",
      "dense (Dense)                (None, 1)                 51        \n",
      "=================================================================\n",
      "Total params: 50,851\n",
      "Trainable params: 50,851\n",
      "Non-trainable params: 0\n",
      "_________________________________________________________________\n"
     ]
    }
   ],
   "source": [
    "model.summary()"
   ]
  },
  {
   "cell_type": "code",
   "execution_count": 20,
   "id": "2d6b3efc",
   "metadata": {},
   "outputs": [
    {
     "name": "stdout",
     "output_type": "stream",
     "text": [
      "Epoch 1/100\n",
      "23/23 [==============================] - 24s 455ms/step - loss: 0.0105 - val_loss: 0.0317\n",
      "Epoch 2/100\n",
      "23/23 [==============================] - 9s 405ms/step - loss: 0.0015 - val_loss: 0.0029\n",
      "Epoch 3/100\n",
      "23/23 [==============================] - 9s 403ms/step - loss: 7.7935e-04 - val_loss: 0.0030\n",
      "Epoch 4/100\n",
      "23/23 [==============================] - 9s 402ms/step - loss: 7.3122e-04 - val_loss: 0.0027\n",
      "Epoch 5/100\n",
      "23/23 [==============================] - 9s 403ms/step - loss: 7.1883e-04 - val_loss: 0.0031\n",
      "Epoch 6/100\n",
      "23/23 [==============================] - 9s 403ms/step - loss: 6.8171e-04 - val_loss: 0.0029\n",
      "Epoch 7/100\n",
      "23/23 [==============================] - 9s 403ms/step - loss: 6.9688e-04 - val_loss: 0.0024\n",
      "Epoch 8/100\n",
      "23/23 [==============================] - 9s 404ms/step - loss: 6.6434e-04 - val_loss: 0.0044\n",
      "Epoch 9/100\n",
      "23/23 [==============================] - 9s 403ms/step - loss: 6.1436e-04 - val_loss: 0.0039\n",
      "Epoch 10/100\n",
      "23/23 [==============================] - 9s 411ms/step - loss: 5.9732e-04 - val_loss: 0.0037\n",
      "Epoch 11/100\n",
      "23/23 [==============================] - 9s 402ms/step - loss: 5.8532e-04 - val_loss: 0.0031\n",
      "Epoch 12/100\n",
      "23/23 [==============================] - 9s 404ms/step - loss: 5.5838e-04 - val_loss: 0.0026\n",
      "Epoch 13/100\n",
      "23/23 [==============================] - 9s 405ms/step - loss: 5.3874e-04 - val_loss: 0.0047\n",
      "Epoch 14/100\n",
      "23/23 [==============================] - 10s 420ms/step - loss: 5.3444e-04 - val_loss: 0.0044\n",
      "Epoch 15/100\n",
      "23/23 [==============================] - 9s 403ms/step - loss: 5.2869e-04 - val_loss: 0.0049\n",
      "Epoch 16/100\n",
      "23/23 [==============================] - 9s 402ms/step - loss: 5.2417e-04 - val_loss: 0.0058\n",
      "Epoch 17/100\n",
      "23/23 [==============================] - 9s 403ms/step - loss: 4.9055e-04 - val_loss: 0.0079\n",
      "Epoch 18/100\n",
      "23/23 [==============================] - 10s 438ms/step - loss: 4.7424e-04 - val_loss: 0.0069\n",
      "Epoch 19/100\n",
      "23/23 [==============================] - 10s 453ms/step - loss: 4.7588e-04 - val_loss: 0.0067\n",
      "Epoch 20/100\n",
      "23/23 [==============================] - 9s 405ms/step - loss: 4.8430e-04 - val_loss: 0.0062\n",
      "Epoch 21/100\n",
      "23/23 [==============================] - 9s 404ms/step - loss: 4.6788e-04 - val_loss: 0.0039\n",
      "Epoch 22/100\n",
      "23/23 [==============================] - 9s 402ms/step - loss: 4.2512e-04 - val_loss: 0.0033\n",
      "Epoch 23/100\n",
      "23/23 [==============================] - 9s 403ms/step - loss: 4.1143e-04 - val_loss: 0.0093\n",
      "Epoch 24/100\n",
      "23/23 [==============================] - 10s 426ms/step - loss: 4.2147e-04 - val_loss: 0.0032\n",
      "Epoch 25/100\n",
      "23/23 [==============================] - 9s 403ms/step - loss: 3.9307e-04 - val_loss: 0.0042\n",
      "Epoch 26/100\n",
      "23/23 [==============================] - 9s 405ms/step - loss: 3.8771e-04 - val_loss: 0.0027\n",
      "Epoch 27/100\n",
      "23/23 [==============================] - 9s 408ms/step - loss: 3.8389e-04 - val_loss: 0.0054\n",
      "Epoch 28/100\n",
      "23/23 [==============================] - 9s 405ms/step - loss: 3.5305e-04 - val_loss: 0.0044\n",
      "Epoch 29/100\n",
      "23/23 [==============================] - 9s 404ms/step - loss: 3.4252e-04 - val_loss: 0.0036\n",
      "Epoch 30/100\n",
      "23/23 [==============================] - 9s 404ms/step - loss: 3.6757e-04 - val_loss: 0.0037\n",
      "Epoch 31/100\n",
      "23/23 [==============================] - 9s 404ms/step - loss: 3.4389e-04 - val_loss: 0.0063\n",
      "Epoch 32/100\n",
      "23/23 [==============================] - 9s 404ms/step - loss: 3.3668e-04 - val_loss: 0.0028\n",
      "Epoch 33/100\n",
      "23/23 [==============================] - 9s 407ms/step - loss: 2.9936e-04 - val_loss: 0.0031\n",
      "Epoch 34/100\n",
      "23/23 [==============================] - 9s 407ms/step - loss: 2.8795e-04 - val_loss: 0.0033\n",
      "Epoch 35/100\n",
      "23/23 [==============================] - 9s 406ms/step - loss: 2.9672e-04 - val_loss: 0.0039\n",
      "Epoch 36/100\n",
      "23/23 [==============================] - 9s 406ms/step - loss: 2.7192e-04 - val_loss: 0.0020\n",
      "Epoch 37/100\n",
      "23/23 [==============================] - 9s 405ms/step - loss: 2.7638e-04 - val_loss: 0.0018\n",
      "Epoch 38/100\n",
      "23/23 [==============================] - 9s 406ms/step - loss: 2.6210e-04 - val_loss: 0.0039\n",
      "Epoch 39/100\n",
      "23/23 [==============================] - 10s 426ms/step - loss: 2.6472e-04 - val_loss: 0.0020\n",
      "Epoch 40/100\n",
      "23/23 [==============================] - 10s 431ms/step - loss: 2.3799e-04 - val_loss: 0.0016\n",
      "Epoch 41/100\n",
      "23/23 [==============================] - 9s 406ms/step - loss: 2.3087e-04 - val_loss: 0.0018\n",
      "Epoch 42/100\n",
      "23/23 [==============================] - 9s 400ms/step - loss: 2.3155e-04 - val_loss: 0.0020\n",
      "Epoch 43/100\n",
      "23/23 [==============================] - 9s 401ms/step - loss: 2.1880e-04 - val_loss: 0.0025\n",
      "Epoch 44/100\n",
      "23/23 [==============================] - 9s 401ms/step - loss: 2.0874e-04 - val_loss: 0.0013\n",
      "Epoch 45/100\n",
      "23/23 [==============================] - 10s 428ms/step - loss: 2.2072e-04 - val_loss: 0.0041\n",
      "Epoch 46/100\n",
      "23/23 [==============================] - 11s 475ms/step - loss: 2.6099e-04 - val_loss: 6.7319e-04\n",
      "Epoch 47/100\n",
      "23/23 [==============================] - 10s 437ms/step - loss: 2.1308e-04 - val_loss: 0.0012\n",
      "Epoch 48/100\n",
      "23/23 [==============================] - 10s 425ms/step - loss: 1.9793e-04 - val_loss: 0.0027\n",
      "Epoch 49/100\n",
      "23/23 [==============================] - 10s 437ms/step - loss: 2.1330e-04 - val_loss: 0.0016\n",
      "Epoch 50/100\n",
      "23/23 [==============================] - 10s 440ms/step - loss: 1.8357e-04 - val_loss: 0.0021\n",
      "Epoch 51/100\n",
      "23/23 [==============================] - 9s 408ms/step - loss: 1.8939e-04 - val_loss: 0.0017\n",
      "Epoch 52/100\n",
      "23/23 [==============================] - 9s 404ms/step - loss: 1.7403e-04 - val_loss: 0.0022\n",
      "Epoch 53/100\n",
      "23/23 [==============================] - 9s 401ms/step - loss: 1.6825e-04 - val_loss: 0.0040\n",
      "Epoch 54/100\n",
      "23/23 [==============================] - 9s 401ms/step - loss: 1.9419e-04 - val_loss: 7.2938e-04\n",
      "Epoch 55/100\n",
      "23/23 [==============================] - 9s 401ms/step - loss: 1.9270e-04 - val_loss: 0.0021\n",
      "Epoch 56/100\n",
      "23/23 [==============================] - 9s 400ms/step - loss: 1.6198e-04 - val_loss: 6.5526e-04\n",
      "Epoch 57/100\n",
      "23/23 [==============================] - 9s 401ms/step - loss: 1.6603e-04 - val_loss: 0.0019\n",
      "Epoch 58/100\n",
      "23/23 [==============================] - 9s 402ms/step - loss: 1.5908e-04 - val_loss: 0.0028\n",
      "Epoch 59/100\n",
      "23/23 [==============================] - 9s 400ms/step - loss: 1.5570e-04 - val_loss: 0.0010\n",
      "Epoch 60/100\n",
      "23/23 [==============================] - 9s 401ms/step - loss: 1.4630e-04 - val_loss: 8.1620e-04\n",
      "Epoch 61/100\n",
      "23/23 [==============================] - 9s 401ms/step - loss: 1.5781e-04 - val_loss: 0.0024\n",
      "Epoch 62/100\n",
      "23/23 [==============================] - 9s 401ms/step - loss: 1.4622e-04 - val_loss: 0.0014\n",
      "Epoch 63/100\n",
      "23/23 [==============================] - 9s 400ms/step - loss: 1.6164e-04 - val_loss: 0.0024\n",
      "Epoch 64/100\n",
      "23/23 [==============================] - 9s 414ms/step - loss: 1.4293e-04 - val_loss: 0.0026\n",
      "Epoch 65/100\n",
      "23/23 [==============================] - 9s 409ms/step - loss: 1.4347e-04 - val_loss: 0.0021\n",
      "Epoch 66/100\n",
      "23/23 [==============================] - 9s 401ms/step - loss: 1.3441e-04 - val_loss: 0.0029\n",
      "Epoch 67/100\n",
      "23/23 [==============================] - 9s 400ms/step - loss: 1.5097e-04 - val_loss: 0.0014\n",
      "Epoch 68/100\n",
      "23/23 [==============================] - 9s 400ms/step - loss: 1.3492e-04 - val_loss: 0.0025\n",
      "Epoch 69/100\n",
      "23/23 [==============================] - 9s 401ms/step - loss: 1.3693e-04 - val_loss: 0.0018\n",
      "Epoch 70/100\n",
      "23/23 [==============================] - 9s 401ms/step - loss: 1.2434e-04 - val_loss: 0.0014\n",
      "Epoch 71/100\n",
      "23/23 [==============================] - 9s 401ms/step - loss: 1.2573e-04 - val_loss: 0.0023\n",
      "Epoch 72/100\n",
      "23/23 [==============================] - 9s 400ms/step - loss: 1.4035e-04 - val_loss: 0.0019\n",
      "Epoch 73/100\n",
      "23/23 [==============================] - 9s 400ms/step - loss: 1.2877e-04 - val_loss: 0.0029\n",
      "Epoch 74/100\n",
      "23/23 [==============================] - 9s 401ms/step - loss: 1.4358e-04 - val_loss: 0.0010\n",
      "Epoch 75/100\n",
      "23/23 [==============================] - 9s 400ms/step - loss: 1.2335e-04 - val_loss: 0.0016\n",
      "Epoch 76/100\n",
      "23/23 [==============================] - 9s 401ms/step - loss: 1.1861e-04 - val_loss: 0.0015\n",
      "Epoch 77/100\n",
      "23/23 [==============================] - 9s 401ms/step - loss: 1.1624e-04 - val_loss: 0.0023\n",
      "Epoch 78/100\n"
     ]
    },
    {
     "name": "stdout",
     "output_type": "stream",
     "text": [
      "23/23 [==============================] - 9s 404ms/step - loss: 1.1425e-04 - val_loss: 0.0012\n",
      "Epoch 79/100\n",
      "23/23 [==============================] - 9s 402ms/step - loss: 1.1843e-04 - val_loss: 0.0012\n",
      "Epoch 80/100\n",
      "23/23 [==============================] - 9s 402ms/step - loss: 1.2063e-04 - val_loss: 9.8861e-04\n",
      "Epoch 81/100\n",
      "23/23 [==============================] - 9s 402ms/step - loss: 1.2078e-04 - val_loss: 0.0018\n",
      "Epoch 82/100\n",
      "23/23 [==============================] - 9s 401ms/step - loss: 1.2329e-04 - val_loss: 0.0011\n",
      "Epoch 83/100\n",
      "23/23 [==============================] - 9s 401ms/step - loss: 1.1450e-04 - val_loss: 0.0013\n",
      "Epoch 84/100\n",
      "23/23 [==============================] - 9s 402ms/step - loss: 1.2087e-04 - val_loss: 0.0020\n",
      "Epoch 85/100\n",
      "23/23 [==============================] - 9s 402ms/step - loss: 1.1616e-04 - val_loss: 0.0012\n",
      "Epoch 86/100\n",
      "23/23 [==============================] - 9s 400ms/step - loss: 1.1880e-04 - val_loss: 0.0015\n",
      "Epoch 87/100\n",
      "23/23 [==============================] - 9s 401ms/step - loss: 1.2411e-04 - val_loss: 0.0024\n",
      "Epoch 88/100\n",
      "23/23 [==============================] - 9s 400ms/step - loss: 1.3484e-04 - val_loss: 9.1756e-04\n",
      "Epoch 89/100\n",
      "23/23 [==============================] - 9s 402ms/step - loss: 1.3338e-04 - val_loss: 0.0024\n",
      "Epoch 90/100\n",
      "23/23 [==============================] - 9s 401ms/step - loss: 1.1760e-04 - val_loss: 0.0019\n",
      "Epoch 91/100\n",
      "23/23 [==============================] - 9s 403ms/step - loss: 1.1196e-04 - val_loss: 0.0012\n",
      "Epoch 92/100\n",
      "23/23 [==============================] - 9s 400ms/step - loss: 1.1712e-04 - val_loss: 0.0012\n",
      "Epoch 93/100\n",
      "23/23 [==============================] - 9s 401ms/step - loss: 1.1955e-04 - val_loss: 0.0012\n",
      "Epoch 94/100\n",
      "23/23 [==============================] - 9s 402ms/step - loss: 1.1371e-04 - val_loss: 0.0011\n",
      "Epoch 95/100\n",
      "23/23 [==============================] - 9s 402ms/step - loss: 1.1141e-04 - val_loss: 0.0015\n",
      "Epoch 96/100\n",
      "23/23 [==============================] - 9s 402ms/step - loss: 1.1307e-04 - val_loss: 9.7622e-04\n",
      "Epoch 97/100\n",
      "23/23 [==============================] - 9s 401ms/step - loss: 1.2017e-04 - val_loss: 0.0020\n",
      "Epoch 98/100\n",
      "23/23 [==============================] - 9s 403ms/step - loss: 1.2544e-04 - val_loss: 0.0013\n",
      "Epoch 99/100\n",
      "23/23 [==============================] - 9s 401ms/step - loss: 1.0959e-04 - val_loss: 0.0015\n",
      "Epoch 100/100\n",
      "23/23 [==============================] - 9s 402ms/step - loss: 1.1856e-04 - val_loss: 9.1039e-04\n"
     ]
    },
    {
     "data": {
      "text/plain": [
       "<tensorflow.python.keras.callbacks.History at 0x13bc50a2100>"
      ]
     },
     "execution_count": 20,
     "metadata": {},
     "output_type": "execute_result"
    }
   ],
   "source": [
    "model.fit(x_train, y_train, validation_data = (x_test, y_test), epochs = 100, batch_size = 64, verbose = 1)"
   ]
  },
  {
   "cell_type": "code",
   "execution_count": 21,
   "id": "e7c71aa7",
   "metadata": {},
   "outputs": [],
   "source": [
    "#predict and check performance metrics\n",
    "train_predict = model.predict(x_train)\n",
    "test_predict = model.predict(x_test)"
   ]
  },
  {
   "cell_type": "code",
   "execution_count": 22,
   "id": "02ebb6a2",
   "metadata": {},
   "outputs": [],
   "source": [
    "#Transform back to original form\n",
    "train_predict = scaler.inverse_transform(train_predict)\n",
    "test_predict = scaler.inverse_transform(test_predict)"
   ]
  },
  {
   "cell_type": "code",
   "execution_count": 23,
   "id": "4f6499d7",
   "metadata": {},
   "outputs": [
    {
     "data": {
      "text/plain": [
       "136.7503276735856"
      ]
     },
     "execution_count": 23,
     "metadata": {},
     "output_type": "execute_result"
    }
   ],
   "source": [
    "#RMSE performance metrics\n",
    "math.sqrt(mean_squared_error(y_train, train_predict))"
   ]
  },
  {
   "cell_type": "code",
   "execution_count": 24,
   "id": "873d56f4",
   "metadata": {},
   "outputs": [
    {
     "data": {
      "text/plain": [
       "228.665220946656"
      ]
     },
     "execution_count": 24,
     "metadata": {},
     "output_type": "execute_result"
    }
   ],
   "source": [
    "#Test Data RMSE\n",
    "math.sqrt(mean_squared_error(y_test, test_predict))"
   ]
  },
  {
   "cell_type": "markdown",
   "id": "55db6383",
   "metadata": {},
   "source": [
    "# Plotting"
   ]
  },
  {
   "cell_type": "code",
   "execution_count": 25,
   "id": "e3077409",
   "metadata": {},
   "outputs": [
    {
     "data": {
      "image/png": "[encoded data removed]",
      "text/plain": [
       "<Figure size 432x288 with 1 Axes>"
      ]
     },
     "metadata": {
      "needs_background": "light"
     },
     "output_type": "display_data"
    }
   ],
   "source": [
    "#Shift train prediction for plotting\n",
    "look_back = 100\n",
    "trainPredictPlot = np.empty_like(df_high)\n",
    "trainPredictPlot[:,:] = np.nan\n",
    "trainPredictPlot[look_back:len(train_predict) + look_back, :] = train_predict\n",
    "\n",
    "#Shift test prediction for plotting\n",
    "testPredictPlot = np.empty_like(df_high)\n",
    "testPredictPlot[:,:] = np.nan\n",
    "testPredictPlot[len(train_predict) + (look_back * 2)+1:len(df_high) - 1, :] = test_predict\n",
    "\n",
    "#Plot baseline and predictions\n",
    "plt.plot(scaler.inverse_transform(df_high))\n",
    "plt.plot(trainPredictPlot)\n",
    "plt.plot(testPredictPlot)\n",
    "plt.show()"
   ]
  },
  {
   "cell_type": "code",
   "execution_count": 26,
   "id": "cb298e68",
   "metadata": {},
   "outputs": [
    {
     "data": {
      "text/plain": [
       "(509, (408, 100, 1))"
      ]
     },
     "execution_count": 26,
     "metadata": {},
     "output_type": "execute_result"
    }
   ],
   "source": [
    "len(test_data), x_test.shape"
   ]
  },
  {
   "cell_type": "code",
   "execution_count": 27,
   "id": "ece42a53",
   "metadata": {},
   "outputs": [
    {
     "data": {
      "text/plain": [
       "(1, 100)"
      ]
     },
     "execution_count": 27,
     "metadata": {},
     "output_type": "execute_result"
    }
   ],
   "source": [
    "x_input = test_data[409:].reshape(1,-1)\n",
    "x_input.shape"
   ]
  },
  {
   "cell_type": "code",
   "execution_count": 28,
   "id": "142506ca",
   "metadata": {},
   "outputs": [],
   "source": [
    "temp_input = list(x_input)\n",
    "temp_input = temp_input[0].tolist()"
   ]
  },
  {
   "cell_type": "code",
   "execution_count": 29,
   "id": "580b7769",
   "metadata": {},
   "outputs": [
    {
     "name": "stdout",
     "output_type": "stream",
     "text": [
      "[0.6169637]\n",
      "101\n",
      "1 day input [0.86013417 0.85464525 0.84448059 0.8072779  0.71843871 0.66192316\n",
      " 0.67696686 0.67554381 0.67310429 0.68428542 0.68936776 0.70217524\n",
      " 0.71803212 0.72941655 0.73144948 0.74486684 0.76926205 0.75991055\n",
      " 0.74242732 0.73958122 0.74771295 0.75991055 0.7584875  0.76621264\n",
      " 0.75462492 0.76316324 0.79670665 0.80585485 0.7889815  0.78003659\n",
      " 0.73978451 0.73002643 0.73490547 0.74872942 0.75991055 0.75462492\n",
      " 0.75401504 0.76174019 0.7737345  0.82008538 0.80585485 0.81154706\n",
      " 0.77434438 0.78633869 0.79284407 0.78328929 0.77109169 0.74385038\n",
      " 0.71193332 0.68733482 0.67818662 0.65257166 0.64301687 0.65643423\n",
      " 0.67656028 0.67371417 0.65114861 0.65521447 0.66761537 0.67838992\n",
      " 0.69993901 0.63122586 0.63508843 0.64098394 0.64545639 0.64118723\n",
      " 0.63854442 0.63081927 0.62472047 0.6330555  0.64728603 0.6574507\n",
      " 0.66761537 0.66720878 0.64159382 0.62776987 0.63651149 0.63630819\n",
      " 0.62980281 0.62817646 0.63813783 0.65358813 0.63183574 0.57653995\n",
      " 0.57816629 0.57613336 0.61943484 0.57979264 0.57288067 0.62573694\n",
      " 0.63102257 0.6361049  0.62776987 0.6269567  0.63590161 0.62594023\n",
      " 0.6391543  0.62614353 0.62268754 0.61696368]\n",
      "1 day output [[0.60360485]]\n",
      "2 day input [0.85464525 0.84448059 0.8072779  0.71843871 0.66192316 0.67696686\n",
      " 0.67554381 0.67310429 0.68428542 0.68936776 0.70217524 0.71803212\n",
      " 0.72941655 0.73144948 0.74486684 0.76926205 0.75991055 0.74242732\n",
      " 0.73958122 0.74771295 0.75991055 0.7584875  0.76621264 0.75462492\n",
      " 0.76316324 0.79670665 0.80585485 0.7889815  0.78003659 0.73978451\n",
      " 0.73002643 0.73490547 0.74872942 0.75991055 0.75462492 0.75401504\n",
      " 0.76174019 0.7737345  0.82008538 0.80585485 0.81154706 0.77434438\n",
      " 0.78633869 0.79284407 0.78328929 0.77109169 0.74385038 0.71193332\n",
      " 0.68733482 0.67818662 0.65257166 0.64301687 0.65643423 0.67656028\n",
      " 0.67371417 0.65114861 0.65521447 0.66761537 0.67838992 0.69993901\n",
      " 0.63122586 0.63508843 0.64098394 0.64545639 0.64118723 0.63854442\n",
      " 0.63081927 0.62472047 0.6330555  0.64728603 0.6574507  0.66761537\n",
      " 0.66720878 0.64159382 0.62776987 0.63651149 0.63630819 0.62980281\n",
      " 0.62817646 0.63813783 0.65358813 0.63183574 0.57653995 0.57816629\n",
      " 0.57613336 0.61943484 0.57979264 0.57288067 0.62573694 0.63102257\n",
      " 0.6361049  0.62776987 0.6269567  0.63590161 0.62594023 0.6391543\n",
      " 0.62614353 0.62268754 0.61696368 0.60360485]\n",
      "2 day output [[0.59036285]]\n",
      "3 day input [0.84448059 0.8072779  0.71843871 0.66192316 0.67696686 0.67554381\n",
      " 0.67310429 0.68428542 0.68936776 0.70217524 0.71803212 0.72941655\n",
      " 0.73144948 0.74486684 0.76926205 0.75991055 0.74242732 0.73958122\n",
      " 0.74771295 0.75991055 0.7584875  0.76621264 0.75462492 0.76316324\n",
      " 0.79670665 0.80585485 0.7889815  0.78003659 0.73978451 0.73002643\n",
      " 0.73490547 0.74872942 0.75991055 0.75462492 0.75401504 0.76174019\n",
      " 0.7737345  0.82008538 0.80585485 0.81154706 0.77434438 0.78633869\n",
      " 0.79284407 0.78328929 0.77109169 0.74385038 0.71193332 0.68733482\n",
      " 0.67818662 0.65257166 0.64301687 0.65643423 0.67656028 0.67371417\n",
      " 0.65114861 0.65521447 0.66761537 0.67838992 0.69993901 0.63122586\n",
      " 0.63508843 0.64098394 0.64545639 0.64118723 0.63854442 0.63081927\n",
      " 0.62472047 0.6330555  0.64728603 0.6574507  0.66761537 0.66720878\n",
      " 0.64159382 0.62776987 0.63651149 0.63630819 0.62980281 0.62817646\n",
      " 0.63813783 0.65358813 0.63183574 0.57653995 0.57816629 0.57613336\n",
      " 0.61943484 0.57979264 0.57288067 0.62573694 0.63102257 0.6361049\n",
      " 0.62776987 0.6269567  0.63590161 0.62594023 0.6391543  0.62614353\n",
      " 0.62268754 0.61696368 0.60360485 0.59036285]\n",
      "3 day output [[0.5797226]]\n",
      "4 day input [0.8072779  0.71843871 0.66192316 0.67696686 0.67554381 0.67310429\n",
      " 0.68428542 0.68936776 0.70217524 0.71803212 0.72941655 0.73144948\n",
      " 0.74486684 0.76926205 0.75991055 0.74242732 0.73958122 0.74771295\n",
      " 0.75991055 0.7584875  0.76621264 0.75462492 0.76316324 0.79670665\n",
      " 0.80585485 0.7889815  0.78003659 0.73978451 0.73002643 0.73490547\n",
      " 0.74872942 0.75991055 0.75462492 0.75401504 0.76174019 0.7737345\n",
      " 0.82008538 0.80585485 0.81154706 0.77434438 0.78633869 0.79284407\n",
      " 0.78328929 0.77109169 0.74385038 0.71193332 0.68733482 0.67818662\n",
      " 0.65257166 0.64301687 0.65643423 0.67656028 0.67371417 0.65114861\n",
      " 0.65521447 0.66761537 0.67838992 0.69993901 0.63122586 0.63508843\n",
      " 0.64098394 0.64545639 0.64118723 0.63854442 0.63081927 0.62472047\n",
      " 0.6330555  0.64728603 0.6574507  0.66761537 0.66720878 0.64159382\n",
      " 0.62776987 0.63651149 0.63630819 0.62980281 0.62817646 0.63813783\n",
      " 0.65358813 0.63183574 0.57653995 0.57816629 0.57613336 0.61943484\n",
      " 0.57979264 0.57288067 0.62573694 0.63102257 0.6361049  0.62776987\n",
      " 0.6269567  0.63590161 0.62594023 0.6391543  0.62614353 0.62268754\n",
      " 0.61696368 0.60360485 0.59036285 0.57972258]\n",
      "4 day output [[0.5723298]]\n",
      "5 day input [0.71843871 0.66192316 0.67696686 0.67554381 0.67310429 0.68428542\n",
      " 0.68936776 0.70217524 0.71803212 0.72941655 0.73144948 0.74486684\n",
      " 0.76926205 0.75991055 0.74242732 0.73958122 0.74771295 0.75991055\n",
      " 0.7584875  0.76621264 0.75462492 0.76316324 0.79670665 0.80585485\n",
      " 0.7889815  0.78003659 0.73978451 0.73002643 0.73490547 0.74872942\n",
      " 0.75991055 0.75462492 0.75401504 0.76174019 0.7737345  0.82008538\n",
      " 0.80585485 0.81154706 0.77434438 0.78633869 0.79284407 0.78328929\n",
      " 0.77109169 0.74385038 0.71193332 0.68733482 0.67818662 0.65257166\n",
      " 0.64301687 0.65643423 0.67656028 0.67371417 0.65114861 0.65521447\n",
      " 0.66761537 0.67838992 0.69993901 0.63122586 0.63508843 0.64098394\n",
      " 0.64545639 0.64118723 0.63854442 0.63081927 0.62472047 0.6330555\n",
      " 0.64728603 0.6574507  0.66761537 0.66720878 0.64159382 0.62776987\n",
      " 0.63651149 0.63630819 0.62980281 0.62817646 0.63813783 0.65358813\n",
      " 0.63183574 0.57653995 0.57816629 0.57613336 0.61943484 0.57979264\n",
      " 0.57288067 0.62573694 0.63102257 0.6361049  0.62776987 0.6269567\n",
      " 0.63590161 0.62594023 0.6391543  0.62614353 0.62268754 0.61696368\n",
      " 0.60360485 0.59036285 0.57972258 0.57232982]\n",
      "5 day output [[0.5671439]]\n",
      "6 day input [0.66192316 0.67696686 0.67554381 0.67310429 0.68428542 0.68936776\n",
      " 0.70217524 0.71803212 0.72941655 0.73144948 0.74486684 0.76926205\n",
      " 0.75991055 0.74242732 0.73958122 0.74771295 0.75991055 0.7584875\n",
      " 0.76621264 0.75462492 0.76316324 0.79670665 0.80585485 0.7889815\n",
      " 0.78003659 0.73978451 0.73002643 0.73490547 0.74872942 0.75991055\n",
      " 0.75462492 0.75401504 0.76174019 0.7737345  0.82008538 0.80585485\n",
      " 0.81154706 0.77434438 0.78633869 0.79284407 0.78328929 0.77109169\n",
      " 0.74385038 0.71193332 0.68733482 0.67818662 0.65257166 0.64301687\n",
      " 0.65643423 0.67656028 0.67371417 0.65114861 0.65521447 0.66761537\n",
      " 0.67838992 0.69993901 0.63122586 0.63508843 0.64098394 0.64545639\n",
      " 0.64118723 0.63854442 0.63081927 0.62472047 0.6330555  0.64728603\n",
      " 0.6574507  0.66761537 0.66720878 0.64159382 0.62776987 0.63651149\n",
      " 0.63630819 0.62980281 0.62817646 0.63813783 0.65358813 0.63183574\n",
      " 0.57653995 0.57816629 0.57613336 0.61943484 0.57979264 0.57288067\n",
      " 0.62573694 0.63102257 0.6361049  0.62776987 0.6269567  0.63590161\n",
      " 0.62594023 0.6391543  0.62614353 0.62268754 0.61696368 0.60360485\n",
      " 0.59036285 0.57972258 0.57232982 0.56714392]\n",
      "6 day output [[0.56339544]]\n",
      "7 day input [0.67696686 0.67554381 0.67310429 0.68428542 0.68936776 0.70217524\n",
      " 0.71803212 0.72941655 0.73144948 0.74486684 0.76926205 0.75991055\n",
      " 0.74242732 0.73958122 0.74771295 0.75991055 0.7584875  0.76621264\n",
      " 0.75462492 0.76316324 0.79670665 0.80585485 0.7889815  0.78003659\n",
      " 0.73978451 0.73002643 0.73490547 0.74872942 0.75991055 0.75462492\n",
      " 0.75401504 0.76174019 0.7737345  0.82008538 0.80585485 0.81154706\n",
      " 0.77434438 0.78633869 0.79284407 0.78328929 0.77109169 0.74385038\n",
      " 0.71193332 0.68733482 0.67818662 0.65257166 0.64301687 0.65643423\n",
      " 0.67656028 0.67371417 0.65114861 0.65521447 0.66761537 0.67838992\n",
      " 0.69993901 0.63122586 0.63508843 0.64098394 0.64545639 0.64118723\n",
      " 0.63854442 0.63081927 0.62472047 0.6330555  0.64728603 0.6574507\n",
      " 0.66761537 0.66720878 0.64159382 0.62776987 0.63651149 0.63630819\n",
      " 0.62980281 0.62817646 0.63813783 0.65358813 0.63183574 0.57653995\n",
      " 0.57816629 0.57613336 0.61943484 0.57979264 0.57288067 0.62573694\n",
      " 0.63102257 0.6361049  0.62776987 0.6269567  0.63590161 0.62594023\n",
      " 0.6391543  0.62614353 0.62268754 0.61696368 0.60360485 0.59036285\n",
      " 0.57972258 0.57232982 0.56714392 0.56339544]\n",
      "7 day output [[0.5606363]]\n",
      "8 day input [0.67554381 0.67310429 0.68428542 0.68936776 0.70217524 0.71803212\n",
      " 0.72941655 0.73144948 0.74486684 0.76926205 0.75991055 0.74242732\n",
      " 0.73958122 0.74771295 0.75991055 0.7584875  0.76621264 0.75462492\n",
      " 0.76316324 0.79670665 0.80585485 0.7889815  0.78003659 0.73978451\n",
      " 0.73002643 0.73490547 0.74872942 0.75991055 0.75462492 0.75401504\n",
      " 0.76174019 0.7737345  0.82008538 0.80585485 0.81154706 0.77434438\n",
      " 0.78633869 0.79284407 0.78328929 0.77109169 0.74385038 0.71193332\n",
      " 0.68733482 0.67818662 0.65257166 0.64301687 0.65643423 0.67656028\n",
      " 0.67371417 0.65114861 0.65521447 0.66761537 0.67838992 0.69993901\n",
      " 0.63122586 0.63508843 0.64098394 0.64545639 0.64118723 0.63854442\n",
      " 0.63081927 0.62472047 0.6330555  0.64728603 0.6574507  0.66761537\n",
      " 0.66720878 0.64159382 0.62776987 0.63651149 0.63630819 0.62980281\n",
      " 0.62817646 0.63813783 0.65358813 0.63183574 0.57653995 0.57816629\n",
      " 0.57613336 0.61943484 0.57979264 0.57288067 0.62573694 0.63102257\n",
      " 0.6361049  0.62776987 0.6269567  0.63590161 0.62594023 0.6391543\n",
      " 0.62614353 0.62268754 0.61696368 0.60360485 0.59036285 0.57972258\n",
      " 0.57232982 0.56714392 0.56339544 0.56063628]\n"
     ]
    },
    {
     "name": "stdout",
     "output_type": "stream",
     "text": [
      "8 day output [[0.5585653]]\n",
      "9 day input [0.67310429 0.68428542 0.68936776 0.70217524 0.71803212 0.72941655\n",
      " 0.73144948 0.74486684 0.76926205 0.75991055 0.74242732 0.73958122\n",
      " 0.74771295 0.75991055 0.7584875  0.76621264 0.75462492 0.76316324\n",
      " 0.79670665 0.80585485 0.7889815  0.78003659 0.73978451 0.73002643\n",
      " 0.73490547 0.74872942 0.75991055 0.75462492 0.75401504 0.76174019\n",
      " 0.7737345  0.82008538 0.80585485 0.81154706 0.77434438 0.78633869\n",
      " 0.79284407 0.78328929 0.77109169 0.74385038 0.71193332 0.68733482\n",
      " 0.67818662 0.65257166 0.64301687 0.65643423 0.67656028 0.67371417\n",
      " 0.65114861 0.65521447 0.66761537 0.67838992 0.69993901 0.63122586\n",
      " 0.63508843 0.64098394 0.64545639 0.64118723 0.63854442 0.63081927\n",
      " 0.62472047 0.6330555  0.64728603 0.6574507  0.66761537 0.66720878\n",
      " 0.64159382 0.62776987 0.63651149 0.63630819 0.62980281 0.62817646\n",
      " 0.63813783 0.65358813 0.63183574 0.57653995 0.57816629 0.57613336\n",
      " 0.61943484 0.57979264 0.57288067 0.62573694 0.63102257 0.6361049\n",
      " 0.62776987 0.6269567  0.63590161 0.62594023 0.6391543  0.62614353\n",
      " 0.62268754 0.61696368 0.60360485 0.59036285 0.57972258 0.57232982\n",
      " 0.56714392 0.56339544 0.56063628 0.55856532]\n",
      "9 day output [[0.55693084]]\n",
      "10 day input [0.68428542 0.68936776 0.70217524 0.71803212 0.72941655 0.73144948\n",
      " 0.74486684 0.76926205 0.75991055 0.74242732 0.73958122 0.74771295\n",
      " 0.75991055 0.7584875  0.76621264 0.75462492 0.76316324 0.79670665\n",
      " 0.80585485 0.7889815  0.78003659 0.73978451 0.73002643 0.73490547\n",
      " 0.74872942 0.75991055 0.75462492 0.75401504 0.76174019 0.7737345\n",
      " 0.82008538 0.80585485 0.81154706 0.77434438 0.78633869 0.79284407\n",
      " 0.78328929 0.77109169 0.74385038 0.71193332 0.68733482 0.67818662\n",
      " 0.65257166 0.64301687 0.65643423 0.67656028 0.67371417 0.65114861\n",
      " 0.65521447 0.66761537 0.67838992 0.69993901 0.63122586 0.63508843\n",
      " 0.64098394 0.64545639 0.64118723 0.63854442 0.63081927 0.62472047\n",
      " 0.6330555  0.64728603 0.6574507  0.66761537 0.66720878 0.64159382\n",
      " 0.62776987 0.63651149 0.63630819 0.62980281 0.62817646 0.63813783\n",
      " 0.65358813 0.63183574 0.57653995 0.57816629 0.57613336 0.61943484\n",
      " 0.57979264 0.57288067 0.62573694 0.63102257 0.6361049  0.62776987\n",
      " 0.6269567  0.63590161 0.62594023 0.6391543  0.62614353 0.62268754\n",
      " 0.61696368 0.60360485 0.59036285 0.57972258 0.57232982 0.56714392\n",
      " 0.56339544 0.56063628 0.55856532 0.55693084]\n",
      "10 day output [[0.55552197]]\n",
      "11 day input [0.68936776 0.70217524 0.71803212 0.72941655 0.73144948 0.74486684\n",
      " 0.76926205 0.75991055 0.74242732 0.73958122 0.74771295 0.75991055\n",
      " 0.7584875  0.76621264 0.75462492 0.76316324 0.79670665 0.80585485\n",
      " 0.7889815  0.78003659 0.73978451 0.73002643 0.73490547 0.74872942\n",
      " 0.75991055 0.75462492 0.75401504 0.76174019 0.7737345  0.82008538\n",
      " 0.80585485 0.81154706 0.77434438 0.78633869 0.79284407 0.78328929\n",
      " 0.77109169 0.74385038 0.71193332 0.68733482 0.67818662 0.65257166\n",
      " 0.64301687 0.65643423 0.67656028 0.67371417 0.65114861 0.65521447\n",
      " 0.66761537 0.67838992 0.69993901 0.63122586 0.63508843 0.64098394\n",
      " 0.64545639 0.64118723 0.63854442 0.63081927 0.62472047 0.6330555\n",
      " 0.64728603 0.6574507  0.66761537 0.66720878 0.64159382 0.62776987\n",
      " 0.63651149 0.63630819 0.62980281 0.62817646 0.63813783 0.65358813\n",
      " 0.63183574 0.57653995 0.57816629 0.57613336 0.61943484 0.57979264\n",
      " 0.57288067 0.62573694 0.63102257 0.6361049  0.62776987 0.6269567\n",
      " 0.63590161 0.62594023 0.6391543  0.62614353 0.62268754 0.61696368\n",
      " 0.60360485 0.59036285 0.57972258 0.57232982 0.56714392 0.56339544\n",
      " 0.56063628 0.55856532 0.55693084 0.55552197]\n",
      "11 day output [[0.5541853]]\n",
      "12 day input [0.70217524 0.71803212 0.72941655 0.73144948 0.74486684 0.76926205\n",
      " 0.75991055 0.74242732 0.73958122 0.74771295 0.75991055 0.7584875\n",
      " 0.76621264 0.75462492 0.76316324 0.79670665 0.80585485 0.7889815\n",
      " 0.78003659 0.73978451 0.73002643 0.73490547 0.74872942 0.75991055\n",
      " 0.75462492 0.75401504 0.76174019 0.7737345  0.82008538 0.80585485\n",
      " 0.81154706 0.77434438 0.78633869 0.79284407 0.78328929 0.77109169\n",
      " 0.74385038 0.71193332 0.68733482 0.67818662 0.65257166 0.64301687\n",
      " 0.65643423 0.67656028 0.67371417 0.65114861 0.65521447 0.66761537\n",
      " 0.67838992 0.69993901 0.63122586 0.63508843 0.64098394 0.64545639\n",
      " 0.64118723 0.63854442 0.63081927 0.62472047 0.6330555  0.64728603\n",
      " 0.6574507  0.66761537 0.66720878 0.64159382 0.62776987 0.63651149\n",
      " 0.63630819 0.62980281 0.62817646 0.63813783 0.65358813 0.63183574\n",
      " 0.57653995 0.57816629 0.57613336 0.61943484 0.57979264 0.57288067\n",
      " 0.62573694 0.63102257 0.6361049  0.62776987 0.6269567  0.63590161\n",
      " 0.62594023 0.6391543  0.62614353 0.62268754 0.61696368 0.60360485\n",
      " 0.59036285 0.57972258 0.57232982 0.56714392 0.56339544 0.56063628\n",
      " 0.55856532 0.55693084 0.55552197 0.55418527]\n",
      "12 day output [[0.5528266]]\n",
      "13 day input [0.71803212 0.72941655 0.73144948 0.74486684 0.76926205 0.75991055\n",
      " 0.74242732 0.73958122 0.74771295 0.75991055 0.7584875  0.76621264\n",
      " 0.75462492 0.76316324 0.79670665 0.80585485 0.7889815  0.78003659\n",
      " 0.73978451 0.73002643 0.73490547 0.74872942 0.75991055 0.75462492\n",
      " 0.75401504 0.76174019 0.7737345  0.82008538 0.80585485 0.81154706\n",
      " 0.77434438 0.78633869 0.79284407 0.78328929 0.77109169 0.74385038\n",
      " 0.71193332 0.68733482 0.67818662 0.65257166 0.64301687 0.65643423\n",
      " 0.67656028 0.67371417 0.65114861 0.65521447 0.66761537 0.67838992\n",
      " 0.69993901 0.63122586 0.63508843 0.64098394 0.64545639 0.64118723\n",
      " 0.63854442 0.63081927 0.62472047 0.6330555  0.64728603 0.6574507\n",
      " 0.66761537 0.66720878 0.64159382 0.62776987 0.63651149 0.63630819\n",
      " 0.62980281 0.62817646 0.63813783 0.65358813 0.63183574 0.57653995\n",
      " 0.57816629 0.57613336 0.61943484 0.57979264 0.57288067 0.62573694\n",
      " 0.63102257 0.6361049  0.62776987 0.6269567  0.63590161 0.62594023\n",
      " 0.6391543  0.62614353 0.62268754 0.61696368 0.60360485 0.59036285\n",
      " 0.57972258 0.57232982 0.56714392 0.56339544 0.56063628 0.55856532\n",
      " 0.55693084 0.55552197 0.55418527 0.55282658]\n",
      "13 day output [[0.55140454]]\n",
      "14 day input [0.72941655 0.73144948 0.74486684 0.76926205 0.75991055 0.74242732\n",
      " 0.73958122 0.74771295 0.75991055 0.7584875  0.76621264 0.75462492\n",
      " 0.76316324 0.79670665 0.80585485 0.7889815  0.78003659 0.73978451\n",
      " 0.73002643 0.73490547 0.74872942 0.75991055 0.75462492 0.75401504\n",
      " 0.76174019 0.7737345  0.82008538 0.80585485 0.81154706 0.77434438\n",
      " 0.78633869 0.79284407 0.78328929 0.77109169 0.74385038 0.71193332\n",
      " 0.68733482 0.67818662 0.65257166 0.64301687 0.65643423 0.67656028\n",
      " 0.67371417 0.65114861 0.65521447 0.66761537 0.67838992 0.69993901\n",
      " 0.63122586 0.63508843 0.64098394 0.64545639 0.64118723 0.63854442\n",
      " 0.63081927 0.62472047 0.6330555  0.64728603 0.6574507  0.66761537\n",
      " 0.66720878 0.64159382 0.62776987 0.63651149 0.63630819 0.62980281\n",
      " 0.62817646 0.63813783 0.65358813 0.63183574 0.57653995 0.57816629\n",
      " 0.57613336 0.61943484 0.57979264 0.57288067 0.62573694 0.63102257\n",
      " 0.6361049  0.62776987 0.6269567  0.63590161 0.62594023 0.6391543\n",
      " 0.62614353 0.62268754 0.61696368 0.60360485 0.59036285 0.57972258\n",
      " 0.57232982 0.56714392 0.56339544 0.56063628 0.55856532 0.55693084\n",
      " 0.55552197 0.55418527 0.55282658 0.55140454]\n",
      "14 day output [[0.5499148]]\n",
      "15 day input [0.73144948 0.74486684 0.76926205 0.75991055 0.74242732 0.73958122\n",
      " 0.74771295 0.75991055 0.7584875  0.76621264 0.75462492 0.76316324\n",
      " 0.79670665 0.80585485 0.7889815  0.78003659 0.73978451 0.73002643\n",
      " 0.73490547 0.74872942 0.75991055 0.75462492 0.75401504 0.76174019\n",
      " 0.7737345  0.82008538 0.80585485 0.81154706 0.77434438 0.78633869\n",
      " 0.79284407 0.78328929 0.77109169 0.74385038 0.71193332 0.68733482\n",
      " 0.67818662 0.65257166 0.64301687 0.65643423 0.67656028 0.67371417\n",
      " 0.65114861 0.65521447 0.66761537 0.67838992 0.69993901 0.63122586\n",
      " 0.63508843 0.64098394 0.64545639 0.64118723 0.63854442 0.63081927\n",
      " 0.62472047 0.6330555  0.64728603 0.6574507  0.66761537 0.66720878\n",
      " 0.64159382 0.62776987 0.63651149 0.63630819 0.62980281 0.62817646\n",
      " 0.63813783 0.65358813 0.63183574 0.57653995 0.57816629 0.57613336\n",
      " 0.61943484 0.57979264 0.57288067 0.62573694 0.63102257 0.6361049\n",
      " 0.62776987 0.6269567  0.63590161 0.62594023 0.6391543  0.62614353\n",
      " 0.62268754 0.61696368 0.60360485 0.59036285 0.57972258 0.57232982\n",
      " 0.56714392 0.56339544 0.56063628 0.55856532 0.55693084 0.55552197\n",
      " 0.55418527 0.55282658 0.55140454 0.54991478]\n",
      "15 day output [[0.5483773]]\n",
      "16 day input [0.74486684 0.76926205 0.75991055 0.74242732 0.73958122 0.74771295\n",
      " 0.75991055 0.7584875  0.76621264 0.75462492 0.76316324 0.79670665\n",
      " 0.80585485 0.7889815  0.78003659 0.73978451 0.73002643 0.73490547\n",
      " 0.74872942 0.75991055 0.75462492 0.75401504 0.76174019 0.7737345\n",
      " 0.82008538 0.80585485 0.81154706 0.77434438 0.78633869 0.79284407\n",
      " 0.78328929 0.77109169 0.74385038 0.71193332 0.68733482 0.67818662\n",
      " 0.65257166 0.64301687 0.65643423 0.67656028 0.67371417 0.65114861\n",
      " 0.65521447 0.66761537 0.67838992 0.69993901 0.63122586 0.63508843\n",
      " 0.64098394 0.64545639 0.64118723 0.63854442 0.63081927 0.62472047\n",
      " 0.6330555  0.64728603 0.6574507  0.66761537 0.66720878 0.64159382\n",
      " 0.62776987 0.63651149 0.63630819 0.62980281 0.62817646 0.63813783\n",
      " 0.65358813 0.63183574 0.57653995 0.57816629 0.57613336 0.61943484\n",
      " 0.57979264 0.57288067 0.62573694 0.63102257 0.6361049  0.62776987\n",
      " 0.6269567  0.63590161 0.62594023 0.6391543  0.62614353 0.62268754\n",
      " 0.61696368 0.60360485 0.59036285 0.57972258 0.57232982 0.56714392\n",
      " 0.56339544 0.56063628 0.55856532 0.55693084 0.55552197 0.55418527\n",
      " 0.55282658 0.55140454 0.54991478 0.54837728]\n"
     ]
    },
    {
     "name": "stdout",
     "output_type": "stream",
     "text": [
      "16 day output [[0.5468231]]\n",
      "17 day input [0.76926205 0.75991055 0.74242732 0.73958122 0.74771295 0.75991055\n",
      " 0.7584875  0.76621264 0.75462492 0.76316324 0.79670665 0.80585485\n",
      " 0.7889815  0.78003659 0.73978451 0.73002643 0.73490547 0.74872942\n",
      " 0.75991055 0.75462492 0.75401504 0.76174019 0.7737345  0.82008538\n",
      " 0.80585485 0.81154706 0.77434438 0.78633869 0.79284407 0.78328929\n",
      " 0.77109169 0.74385038 0.71193332 0.68733482 0.67818662 0.65257166\n",
      " 0.64301687 0.65643423 0.67656028 0.67371417 0.65114861 0.65521447\n",
      " 0.66761537 0.67838992 0.69993901 0.63122586 0.63508843 0.64098394\n",
      " 0.64545639 0.64118723 0.63854442 0.63081927 0.62472047 0.6330555\n",
      " 0.64728603 0.6574507  0.66761537 0.66720878 0.64159382 0.62776987\n",
      " 0.63651149 0.63630819 0.62980281 0.62817646 0.63813783 0.65358813\n",
      " 0.63183574 0.57653995 0.57816629 0.57613336 0.61943484 0.57979264\n",
      " 0.57288067 0.62573694 0.63102257 0.6361049  0.62776987 0.6269567\n",
      " 0.63590161 0.62594023 0.6391543  0.62614353 0.62268754 0.61696368\n",
      " 0.60360485 0.59036285 0.57972258 0.57232982 0.56714392 0.56339544\n",
      " 0.56063628 0.55856532 0.55693084 0.55552197 0.55418527 0.55282658\n",
      " 0.55140454 0.54991478 0.54837728 0.54682308]\n",
      "17 day output [[0.5451306]]\n",
      "18 day input [0.75991055 0.74242732 0.73958122 0.74771295 0.75991055 0.7584875\n",
      " 0.76621264 0.75462492 0.76316324 0.79670665 0.80585485 0.7889815\n",
      " 0.78003659 0.73978451 0.73002643 0.73490547 0.74872942 0.75991055\n",
      " 0.75462492 0.75401504 0.76174019 0.7737345  0.82008538 0.80585485\n",
      " 0.81154706 0.77434438 0.78633869 0.79284407 0.78328929 0.77109169\n",
      " 0.74385038 0.71193332 0.68733482 0.67818662 0.65257166 0.64301687\n",
      " 0.65643423 0.67656028 0.67371417 0.65114861 0.65521447 0.66761537\n",
      " 0.67838992 0.69993901 0.63122586 0.63508843 0.64098394 0.64545639\n",
      " 0.64118723 0.63854442 0.63081927 0.62472047 0.6330555  0.64728603\n",
      " 0.6574507  0.66761537 0.66720878 0.64159382 0.62776987 0.63651149\n",
      " 0.63630819 0.62980281 0.62817646 0.63813783 0.65358813 0.63183574\n",
      " 0.57653995 0.57816629 0.57613336 0.61943484 0.57979264 0.57288067\n",
      " 0.62573694 0.63102257 0.6361049  0.62776987 0.6269567  0.63590161\n",
      " 0.62594023 0.6391543  0.62614353 0.62268754 0.61696368 0.60360485\n",
      " 0.59036285 0.57972258 0.57232982 0.56714392 0.56339544 0.56063628\n",
      " 0.55856532 0.55693084 0.55552197 0.55418527 0.55282658 0.55140454\n",
      " 0.54991478 0.54837728 0.54682308 0.54513061]\n",
      "18 day output [[0.54322225]]\n",
      "19 day input [0.74242732 0.73958122 0.74771295 0.75991055 0.7584875  0.76621264\n",
      " 0.75462492 0.76316324 0.79670665 0.80585485 0.7889815  0.78003659\n",
      " 0.73978451 0.73002643 0.73490547 0.74872942 0.75991055 0.75462492\n",
      " 0.75401504 0.76174019 0.7737345  0.82008538 0.80585485 0.81154706\n",
      " 0.77434438 0.78633869 0.79284407 0.78328929 0.77109169 0.74385038\n",
      " 0.71193332 0.68733482 0.67818662 0.65257166 0.64301687 0.65643423\n",
      " 0.67656028 0.67371417 0.65114861 0.65521447 0.66761537 0.67838992\n",
      " 0.69993901 0.63122586 0.63508843 0.64098394 0.64545639 0.64118723\n",
      " 0.63854442 0.63081927 0.62472047 0.6330555  0.64728603 0.6574507\n",
      " 0.66761537 0.66720878 0.64159382 0.62776987 0.63651149 0.63630819\n",
      " 0.62980281 0.62817646 0.63813783 0.65358813 0.63183574 0.57653995\n",
      " 0.57816629 0.57613336 0.61943484 0.57979264 0.57288067 0.62573694\n",
      " 0.63102257 0.6361049  0.62776987 0.6269567  0.63590161 0.62594023\n",
      " 0.6391543  0.62614353 0.62268754 0.61696368 0.60360485 0.59036285\n",
      " 0.57972258 0.57232982 0.56714392 0.56339544 0.56063628 0.55856532\n",
      " 0.55693084 0.55552197 0.55418527 0.55282658 0.55140454 0.54991478\n",
      " 0.54837728 0.54682308 0.54513061 0.54322225]\n",
      "19 day output [[0.5412536]]\n",
      "20 day input [0.73958122 0.74771295 0.75991055 0.7584875  0.76621264 0.75462492\n",
      " 0.76316324 0.79670665 0.80585485 0.7889815  0.78003659 0.73978451\n",
      " 0.73002643 0.73490547 0.74872942 0.75991055 0.75462492 0.75401504\n",
      " 0.76174019 0.7737345  0.82008538 0.80585485 0.81154706 0.77434438\n",
      " 0.78633869 0.79284407 0.78328929 0.77109169 0.74385038 0.71193332\n",
      " 0.68733482 0.67818662 0.65257166 0.64301687 0.65643423 0.67656028\n",
      " 0.67371417 0.65114861 0.65521447 0.66761537 0.67838992 0.69993901\n",
      " 0.63122586 0.63508843 0.64098394 0.64545639 0.64118723 0.63854442\n",
      " 0.63081927 0.62472047 0.6330555  0.64728603 0.6574507  0.66761537\n",
      " 0.66720878 0.64159382 0.62776987 0.63651149 0.63630819 0.62980281\n",
      " 0.62817646 0.63813783 0.65358813 0.63183574 0.57653995 0.57816629\n",
      " 0.57613336 0.61943484 0.57979264 0.57288067 0.62573694 0.63102257\n",
      " 0.6361049  0.62776987 0.6269567  0.63590161 0.62594023 0.6391543\n",
      " 0.62614353 0.62268754 0.61696368 0.60360485 0.59036285 0.57972258\n",
      " 0.57232982 0.56714392 0.56339544 0.56063628 0.55856532 0.55693084\n",
      " 0.55552197 0.55418527 0.55282658 0.55140454 0.54991478 0.54837728\n",
      " 0.54682308 0.54513061 0.54322225 0.54125363]\n",
      "20 day output [[0.5393285]]\n",
      "21 day input [0.74771295 0.75991055 0.7584875  0.76621264 0.75462492 0.76316324\n",
      " 0.79670665 0.80585485 0.7889815  0.78003659 0.73978451 0.73002643\n",
      " 0.73490547 0.74872942 0.75991055 0.75462492 0.75401504 0.76174019\n",
      " 0.7737345  0.82008538 0.80585485 0.81154706 0.77434438 0.78633869\n",
      " 0.79284407 0.78328929 0.77109169 0.74385038 0.71193332 0.68733482\n",
      " 0.67818662 0.65257166 0.64301687 0.65643423 0.67656028 0.67371417\n",
      " 0.65114861 0.65521447 0.66761537 0.67838992 0.69993901 0.63122586\n",
      " 0.63508843 0.64098394 0.64545639 0.64118723 0.63854442 0.63081927\n",
      " 0.62472047 0.6330555  0.64728603 0.6574507  0.66761537 0.66720878\n",
      " 0.64159382 0.62776987 0.63651149 0.63630819 0.62980281 0.62817646\n",
      " 0.63813783 0.65358813 0.63183574 0.57653995 0.57816629 0.57613336\n",
      " 0.61943484 0.57979264 0.57288067 0.62573694 0.63102257 0.6361049\n",
      " 0.62776987 0.6269567  0.63590161 0.62594023 0.6391543  0.62614353\n",
      " 0.62268754 0.61696368 0.60360485 0.59036285 0.57972258 0.57232982\n",
      " 0.56714392 0.56339544 0.56063628 0.55856532 0.55693084 0.55552197\n",
      " 0.55418527 0.55282658 0.55140454 0.54991478 0.54837728 0.54682308\n",
      " 0.54513061 0.54322225 0.54125363 0.53932852]\n",
      "21 day output [[0.5374947]]\n",
      "22 day input [0.75991055 0.7584875  0.76621264 0.75462492 0.76316324 0.79670665\n",
      " 0.80585485 0.7889815  0.78003659 0.73978451 0.73002643 0.73490547\n",
      " 0.74872942 0.75991055 0.75462492 0.75401504 0.76174019 0.7737345\n",
      " 0.82008538 0.80585485 0.81154706 0.77434438 0.78633869 0.79284407\n",
      " 0.78328929 0.77109169 0.74385038 0.71193332 0.68733482 0.67818662\n",
      " 0.65257166 0.64301687 0.65643423 0.67656028 0.67371417 0.65114861\n",
      " 0.65521447 0.66761537 0.67838992 0.69993901 0.63122586 0.63508843\n",
      " 0.64098394 0.64545639 0.64118723 0.63854442 0.63081927 0.62472047\n",
      " 0.6330555  0.64728603 0.6574507  0.66761537 0.66720878 0.64159382\n",
      " 0.62776987 0.63651149 0.63630819 0.62980281 0.62817646 0.63813783\n",
      " 0.65358813 0.63183574 0.57653995 0.57816629 0.57613336 0.61943484\n",
      " 0.57979264 0.57288067 0.62573694 0.63102257 0.6361049  0.62776987\n",
      " 0.6269567  0.63590161 0.62594023 0.6391543  0.62614353 0.62268754\n",
      " 0.61696368 0.60360485 0.59036285 0.57972258 0.57232982 0.56714392\n",
      " 0.56339544 0.56063628 0.55856532 0.55693084 0.55552197 0.55418527\n",
      " 0.55282658 0.55140454 0.54991478 0.54837728 0.54682308 0.54513061\n",
      " 0.54322225 0.54125363 0.53932852 0.53749472]\n",
      "22 day output [[0.5357818]]\n",
      "23 day input [0.7584875  0.76621264 0.75462492 0.76316324 0.79670665 0.80585485\n",
      " 0.7889815  0.78003659 0.73978451 0.73002643 0.73490547 0.74872942\n",
      " 0.75991055 0.75462492 0.75401504 0.76174019 0.7737345  0.82008538\n",
      " 0.80585485 0.81154706 0.77434438 0.78633869 0.79284407 0.78328929\n",
      " 0.77109169 0.74385038 0.71193332 0.68733482 0.67818662 0.65257166\n",
      " 0.64301687 0.65643423 0.67656028 0.67371417 0.65114861 0.65521447\n",
      " 0.66761537 0.67838992 0.69993901 0.63122586 0.63508843 0.64098394\n",
      " 0.64545639 0.64118723 0.63854442 0.63081927 0.62472047 0.6330555\n",
      " 0.64728603 0.6574507  0.66761537 0.66720878 0.64159382 0.62776987\n",
      " 0.63651149 0.63630819 0.62980281 0.62817646 0.63813783 0.65358813\n",
      " 0.63183574 0.57653995 0.57816629 0.57613336 0.61943484 0.57979264\n",
      " 0.57288067 0.62573694 0.63102257 0.6361049  0.62776987 0.6269567\n",
      " 0.63590161 0.62594023 0.6391543  0.62614353 0.62268754 0.61696368\n",
      " 0.60360485 0.59036285 0.57972258 0.57232982 0.56714392 0.56339544\n",
      " 0.56063628 0.55856532 0.55693084 0.55552197 0.55418527 0.55282658\n",
      " 0.55140454 0.54991478 0.54837728 0.54682308 0.54513061 0.54322225\n",
      " 0.54125363 0.53932852 0.53749472 0.5357818 ]\n",
      "23 day output [[0.5342053]]\n",
      "24 day input [0.76621264 0.75462492 0.76316324 0.79670665 0.80585485 0.7889815\n",
      " 0.78003659 0.73978451 0.73002643 0.73490547 0.74872942 0.75991055\n",
      " 0.75462492 0.75401504 0.76174019 0.7737345  0.82008538 0.80585485\n",
      " 0.81154706 0.77434438 0.78633869 0.79284407 0.78328929 0.77109169\n",
      " 0.74385038 0.71193332 0.68733482 0.67818662 0.65257166 0.64301687\n",
      " 0.65643423 0.67656028 0.67371417 0.65114861 0.65521447 0.66761537\n",
      " 0.67838992 0.69993901 0.63122586 0.63508843 0.64098394 0.64545639\n",
      " 0.64118723 0.63854442 0.63081927 0.62472047 0.6330555  0.64728603\n",
      " 0.6574507  0.66761537 0.66720878 0.64159382 0.62776987 0.63651149\n",
      " 0.63630819 0.62980281 0.62817646 0.63813783 0.65358813 0.63183574\n",
      " 0.57653995 0.57816629 0.57613336 0.61943484 0.57979264 0.57288067\n",
      " 0.62573694 0.63102257 0.6361049  0.62776987 0.6269567  0.63590161\n",
      " 0.62594023 0.6391543  0.62614353 0.62268754 0.61696368 0.60360485\n",
      " 0.59036285 0.57972258 0.57232982 0.56714392 0.56339544 0.56063628\n",
      " 0.55856532 0.55693084 0.55552197 0.55418527 0.55282658 0.55140454\n",
      " 0.54991478 0.54837728 0.54682308 0.54513061 0.54322225 0.54125363\n",
      " 0.53932852 0.53749472 0.5357818  0.53420532]\n"
     ]
    },
    {
     "name": "stdout",
     "output_type": "stream",
     "text": [
      "24 day output [[0.5327715]]\n",
      "25 day input [0.75462492 0.76316324 0.79670665 0.80585485 0.7889815  0.78003659\n",
      " 0.73978451 0.73002643 0.73490547 0.74872942 0.75991055 0.75462492\n",
      " 0.75401504 0.76174019 0.7737345  0.82008538 0.80585485 0.81154706\n",
      " 0.77434438 0.78633869 0.79284407 0.78328929 0.77109169 0.74385038\n",
      " 0.71193332 0.68733482 0.67818662 0.65257166 0.64301687 0.65643423\n",
      " 0.67656028 0.67371417 0.65114861 0.65521447 0.66761537 0.67838992\n",
      " 0.69993901 0.63122586 0.63508843 0.64098394 0.64545639 0.64118723\n",
      " 0.63854442 0.63081927 0.62472047 0.6330555  0.64728603 0.6574507\n",
      " 0.66761537 0.66720878 0.64159382 0.62776987 0.63651149 0.63630819\n",
      " 0.62980281 0.62817646 0.63813783 0.65358813 0.63183574 0.57653995\n",
      " 0.57816629 0.57613336 0.61943484 0.57979264 0.57288067 0.62573694\n",
      " 0.63102257 0.6361049  0.62776987 0.6269567  0.63590161 0.62594023\n",
      " 0.6391543  0.62614353 0.62268754 0.61696368 0.60360485 0.59036285\n",
      " 0.57972258 0.57232982 0.56714392 0.56339544 0.56063628 0.55856532\n",
      " 0.55693084 0.55552197 0.55418527 0.55282658 0.55140454 0.54991478\n",
      " 0.54837728 0.54682308 0.54513061 0.54322225 0.54125363 0.53932852\n",
      " 0.53749472 0.5357818  0.53420532 0.53277153]\n",
      "25 day output [[0.5314787]]\n",
      "26 day input [0.76316324 0.79670665 0.80585485 0.7889815  0.78003659 0.73978451\n",
      " 0.73002643 0.73490547 0.74872942 0.75991055 0.75462492 0.75401504\n",
      " 0.76174019 0.7737345  0.82008538 0.80585485 0.81154706 0.77434438\n",
      " 0.78633869 0.79284407 0.78328929 0.77109169 0.74385038 0.71193332\n",
      " 0.68733482 0.67818662 0.65257166 0.64301687 0.65643423 0.67656028\n",
      " 0.67371417 0.65114861 0.65521447 0.66761537 0.67838992 0.69993901\n",
      " 0.63122586 0.63508843 0.64098394 0.64545639 0.64118723 0.63854442\n",
      " 0.63081927 0.62472047 0.6330555  0.64728603 0.6574507  0.66761537\n",
      " 0.66720878 0.64159382 0.62776987 0.63651149 0.63630819 0.62980281\n",
      " 0.62817646 0.63813783 0.65358813 0.63183574 0.57653995 0.57816629\n",
      " 0.57613336 0.61943484 0.57979264 0.57288067 0.62573694 0.63102257\n",
      " 0.6361049  0.62776987 0.6269567  0.63590161 0.62594023 0.6391543\n",
      " 0.62614353 0.62268754 0.61696368 0.60360485 0.59036285 0.57972258\n",
      " 0.57232982 0.56714392 0.56339544 0.56063628 0.55856532 0.55693084\n",
      " 0.55552197 0.55418527 0.55282658 0.55140454 0.54991478 0.54837728\n",
      " 0.54682308 0.54513061 0.54322225 0.54125363 0.53932852 0.53749472\n",
      " 0.5357818  0.53420532 0.53277153 0.5314787 ]\n",
      "26 day output [[0.53031975]]\n",
      "27 day input [0.79670665 0.80585485 0.7889815  0.78003659 0.73978451 0.73002643\n",
      " 0.73490547 0.74872942 0.75991055 0.75462492 0.75401504 0.76174019\n",
      " 0.7737345  0.82008538 0.80585485 0.81154706 0.77434438 0.78633869\n",
      " 0.79284407 0.78328929 0.77109169 0.74385038 0.71193332 0.68733482\n",
      " 0.67818662 0.65257166 0.64301687 0.65643423 0.67656028 0.67371417\n",
      " 0.65114861 0.65521447 0.66761537 0.67838992 0.69993901 0.63122586\n",
      " 0.63508843 0.64098394 0.64545639 0.64118723 0.63854442 0.63081927\n",
      " 0.62472047 0.6330555  0.64728603 0.6574507  0.66761537 0.66720878\n",
      " 0.64159382 0.62776987 0.63651149 0.63630819 0.62980281 0.62817646\n",
      " 0.63813783 0.65358813 0.63183574 0.57653995 0.57816629 0.57613336\n",
      " 0.61943484 0.57979264 0.57288067 0.62573694 0.63102257 0.6361049\n",
      " 0.62776987 0.6269567  0.63590161 0.62594023 0.6391543  0.62614353\n",
      " 0.62268754 0.61696368 0.60360485 0.59036285 0.57972258 0.57232982\n",
      " 0.56714392 0.56339544 0.56063628 0.55856532 0.55693084 0.55552197\n",
      " 0.55418527 0.55282658 0.55140454 0.54991478 0.54837728 0.54682308\n",
      " 0.54513061 0.54322225 0.54125363 0.53932852 0.53749472 0.5357818\n",
      " 0.53420532 0.53277153 0.5314787  0.53031975]\n",
      "27 day output [[0.52928334]]\n",
      "[[0.6169636845588684], [0.6036048531532288], [0.5903628468513489], [0.5797225832939148], [0.5723298192024231], [0.5671439170837402], [0.5633954405784607], [0.5606362819671631], [0.5585653185844421], [0.5569308400154114], [0.5555219650268555], [0.5541852712631226], [0.5528265833854675], [0.5514045357704163], [0.5499147772789001], [0.548377275466919], [0.5468230843544006], [0.5451306104660034], [0.5432222485542297], [0.5412536263465881], [0.5393285155296326], [0.5374947190284729], [0.5357818007469177], [0.5342053174972534], [0.5327715277671814], [0.5314787030220032], [0.5303197503089905], [0.529283344745636]]\n"
     ]
    }
   ],
   "source": [
    "lst_output = []\n",
    "n_steps = 100\n",
    "nextNumberOfDays = 28\n",
    "i = 0\n",
    "\n",
    "while(i<nextNumberOfDays):\n",
    "    \n",
    "    if(len(temp_input)>100):\n",
    "        x_input = np.array(temp_input[1:])\n",
    "        print(\"{} day input {}\".format(i,x_input))\n",
    "        \n",
    "        x_input = x_input.reshape(1,-1)\n",
    "        x_input = x_input.reshape((1, n_steps, 1))\n",
    "        yhat = model.predict(x_input, verbose=0)\n",
    "        print(\"{} day output {}\".format(i,yhat))\n",
    "        \n",
    "        temp_input.extend(yhat[0].tolist())\n",
    "        temp_input = temp_input[1:]\n",
    "        lst_output.extend(yhat.tolist())\n",
    "        i = i+1\n",
    "        \n",
    "    else:\n",
    "        x_input = x_input.reshape((1, n_steps,1))\n",
    "        yhat = model.predict(x_input, verbose=0)\n",
    "        print(yhat[0])\n",
    "        \n",
    "        temp_input.extend(yhat[0].tolist())\n",
    "        print(len(temp_input))\n",
    "        \n",
    "        lst_output.extend(yhat.tolist())\n",
    "        i = i+1\n",
    "    \n",
    "\n",
    "print(lst_output)"
   ]
  },
  {
   "cell_type": "code",
   "execution_count": 30,
   "id": "d8f5c443",
   "metadata": {},
   "outputs": [],
   "source": [
    "day_new = np.arange(1,101)\n",
    "day_pred = np.arange(101,129)"
   ]
  },
  {
   "cell_type": "code",
   "execution_count": 31,
   "id": "cbfad6d8",
   "metadata": {},
   "outputs": [
    {
     "data": {
      "text/plain": [
       "(100,)"
      ]
     },
     "execution_count": 31,
     "metadata": {},
     "output_type": "execute_result"
    }
   ],
   "source": [
    "day_new.shape"
   ]
  },
  {
   "cell_type": "code",
   "execution_count": 32,
   "id": "10d95961",
   "metadata": {},
   "outputs": [
    {
     "data": {
      "text/plain": [
       "(28,)"
      ]
     },
     "execution_count": 32,
     "metadata": {},
     "output_type": "execute_result"
    }
   ],
   "source": [
    "day_pred.shape"
   ]
  },
  {
   "cell_type": "code",
   "execution_count": 33,
   "id": "61cadb59",
   "metadata": {},
   "outputs": [],
   "source": [
    "df3 = df_high.tolist()\n",
    "df3.extend(lst_output)"
   ]
  },
  {
   "cell_type": "code",
   "execution_count": 34,
   "id": "23646f0c",
   "metadata": {},
   "outputs": [
    {
     "data": {
      "text/plain": [
       "2035"
      ]
     },
     "execution_count": 34,
     "metadata": {},
     "output_type": "execute_result"
    }
   ],
   "source": [
    "len(df_high)"
   ]
  },
  {
   "cell_type": "code",
   "execution_count": 35,
   "id": "36647a38",
   "metadata": {},
   "outputs": [
    {
     "data": {
      "text/plain": [
       "[<matplotlib.lines.Line2D at 0x13bdc0154f0>]"
      ]
     },
     "execution_count": 35,
     "metadata": {},
     "output_type": "execute_result"
    },
    {
     "data": {
      "image/png": "[encoded data removed]",
      "text/plain": [
       "<Figure size 432x288 with 1 Axes>"
      ]
     },
     "metadata": {
      "needs_background": "light"
     },
     "output_type": "display_data"
    }
   ],
   "source": [
    "plt.plot(day_new, scaler.inverse_transform(df_high[1935:]))\n",
    "plt.plot(day_pred, scaler.inverse_transform(lst_output))"
   ]
  },
  {
   "cell_type": "code",
   "execution_count": 36,
   "id": "1cb96658",
   "metadata": {},
   "outputs": [
    {
     "data": {
      "text/plain": [
       "[<matplotlib.lines.Line2D at 0x13bdbfa7460>]"
      ]
     },
     "execution_count": 36,
     "metadata": {},
     "output_type": "execute_result"
    },
    {
     "data": {
      "image/png": "[encoded data removed]",
      "text/plain": [
       "<Figure size 432x288 with 1 Axes>"
      ]
     },
     "metadata": {
      "needs_background": "light"
     },
     "output_type": "display_data"
    }
   ],
   "source": [
    "df3 = df_high.tolist()\n",
    "df3.extend(lst_output)\n",
    "plt.plot(df3[2000:])"
   ]
  },
  {
   "cell_type": "code",
   "execution_count": 37,
   "id": "c6dd54ee",
   "metadata": {},
   "outputs": [],
   "source": [
    "df3 = scaler.inverse_transform(df3).tolist()"
   ]
  },
  {
   "cell_type": "code",
   "execution_count": 38,
   "id": "47b9b4f3",
   "metadata": {},
   "outputs": [
    {
     "data": {
      "text/plain": [
       "[<matplotlib.lines.Line2D at 0x13bdc147220>]"
      ]
     },
     "execution_count": 38,
     "metadata": {},
     "output_type": "execute_result"
    },
    {
     "data": {
      "image/png": "[encoded data removed]",
      "text/plain": [
       "<Figure size 432x288 with 1 Axes>"
      ]
     },
     "metadata": {
      "needs_background": "light"
     },
     "output_type": "display_data"
    }
   ],
   "source": [
    "plt.plot(df3)"
   ]
  },
  {
   "cell_type": "code",
   "execution_count": null,
   "id": "d233e984",
   "metadata": {},
   "outputs": [],
   "source": []
  }
 ],
 "metadata": {
  "kernelspec": {
   "display_name": "Python 3 (ipykernel)",
   "language": "python",
   "name": "python3"
  },
  "language_info": {
   "codemirror_mode": {
    "name": "ipython",
    "version": 3
   },
   "file_extension": ".py",
   "mimetype": "text/x-python",
   "name": "python",
   "nbconvert_exporter": "python",
   "pygments_lexer": "ipython3",
   "version": "3.9.12"
  }
 },
 "nbformat": 4,
 "nbformat_minor": 5
}
