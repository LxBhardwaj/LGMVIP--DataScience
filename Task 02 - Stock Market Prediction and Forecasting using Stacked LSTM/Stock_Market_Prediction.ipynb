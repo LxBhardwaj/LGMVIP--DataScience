{
 "cells": [
  {
   "cell_type": "markdown",
   "id": "aefa5e3e",
   "metadata": {},
   "source": [
    "# *LetsGrowMore - Virtual Internship Program*\n",
    "#### *Data Science Tasks*\n",
    "\n",
    "### *Author: Laxman Kumar*\n",
    "\n",
    "### Task 2 - Stock Market Prediction And Forecasting Using Stacked LSTM\n",
    "\n",
    "Datasetlink : https://raw.githubusercontent.com/mwitiderrick/stockprice/master/NSE-TATAGLOBAL.csv"
   ]
  },
  {
   "cell_type": "markdown",
   "id": "ba4a5d50",
   "metadata": {},
   "source": [
    "***"
   ]
  },
  {
   "cell_type": "markdown",
   "id": "0d4dc196",
   "metadata": {},
   "source": [
    "# Import modules"
   ]
  },
  {
   "cell_type": "code",
   "execution_count": 1,
   "id": "d5439a41",
   "metadata": {},
   "outputs": [],
   "source": [
    "import pandas as pd\n",
    "import numpy as np\n",
    "import math\n",
    "import matplotlib.pyplot as plt\n",
    "from sklearn.preprocessing import MinMaxScaler\n",
    "from sklearn.metrics import mean_squared_error\n",
    "import tensorflow as tf\n",
    "from tensorflow.python.keras.models import Sequential\n",
    "from tensorflow.python.keras.layers import Dense\n",
    "from tensorflow.python.keras.layers import LSTM\n",
    "%matplotlib inline"
   ]
  },
  {
   "cell_type": "markdown",
   "id": "4b35ac46",
   "metadata": {},
   "source": [
    "# Loading the Dataset"
   ]
  },
  {
   "cell_type": "code",
   "execution_count": 2,
   "id": "ad55fa2d",
   "metadata": {},
   "outputs": [
    {
     "data": {
      "text/html": [
       "<div>\n",
       "<style scoped>\n",
       "    .dataframe tbody tr th:only-of-type {\n",
       "        vertical-align: middle;\n",
       "    }\n",
       "\n",
       "    .dataframe tbody tr th {\n",
       "        vertical-align: top;\n",
       "    }\n",
       "\n",
       "    .dataframe thead th {\n",
       "        text-align: right;\n",
       "    }\n",
       "</style>\n",
       "<table border=\"1\" class=\"dataframe\">\n",
       "  <thead>\n",
       "    <tr style=\"text-align: right;\">\n",
       "      <th></th>\n",
       "      <th>Date</th>\n",
       "      <th>Open</th>\n",
       "      <th>High</th>\n",
       "      <th>Low</th>\n",
       "      <th>Last</th>\n",
       "      <th>Close</th>\n",
       "      <th>Total Trade Quantity</th>\n",
       "      <th>Turnover (Lacs)</th>\n",
       "    </tr>\n",
       "  </thead>\n",
       "  <tbody>\n",
       "    <tr>\n",
       "      <th>2034</th>\n",
       "      <td>2010-07-21</td>\n",
       "      <td>122.1</td>\n",
       "      <td>123.00</td>\n",
       "      <td>121.05</td>\n",
       "      <td>121.10</td>\n",
       "      <td>121.55</td>\n",
       "      <td>658666</td>\n",
       "      <td>803.56</td>\n",
       "    </tr>\n",
       "    <tr>\n",
       "      <th>2033</th>\n",
       "      <td>2010-07-22</td>\n",
       "      <td>120.3</td>\n",
       "      <td>122.00</td>\n",
       "      <td>120.25</td>\n",
       "      <td>120.75</td>\n",
       "      <td>120.90</td>\n",
       "      <td>293312</td>\n",
       "      <td>355.17</td>\n",
       "    </tr>\n",
       "    <tr>\n",
       "      <th>2032</th>\n",
       "      <td>2010-07-23</td>\n",
       "      <td>121.8</td>\n",
       "      <td>121.95</td>\n",
       "      <td>120.25</td>\n",
       "      <td>120.35</td>\n",
       "      <td>120.65</td>\n",
       "      <td>281312</td>\n",
       "      <td>340.31</td>\n",
       "    </tr>\n",
       "    <tr>\n",
       "      <th>2031</th>\n",
       "      <td>2010-07-26</td>\n",
       "      <td>120.1</td>\n",
       "      <td>121.00</td>\n",
       "      <td>117.10</td>\n",
       "      <td>117.10</td>\n",
       "      <td>117.60</td>\n",
       "      <td>658440</td>\n",
       "      <td>780.01</td>\n",
       "    </tr>\n",
       "    <tr>\n",
       "      <th>2030</th>\n",
       "      <td>2010-07-27</td>\n",
       "      <td>117.6</td>\n",
       "      <td>119.50</td>\n",
       "      <td>112.00</td>\n",
       "      <td>118.80</td>\n",
       "      <td>118.65</td>\n",
       "      <td>586100</td>\n",
       "      <td>694.98</td>\n",
       "    </tr>\n",
       "  </tbody>\n",
       "</table>\n",
       "</div>"
      ],
      "text/plain": [
       "            Date   Open    High     Low    Last   Close  Total Trade Quantity  \\\n",
       "2034  2010-07-21  122.1  123.00  121.05  121.10  121.55                658666   \n",
       "2033  2010-07-22  120.3  122.00  120.25  120.75  120.90                293312   \n",
       "2032  2010-07-23  121.8  121.95  120.25  120.35  120.65                281312   \n",
       "2031  2010-07-26  120.1  121.00  117.10  117.10  117.60                658440   \n",
       "2030  2010-07-27  117.6  119.50  112.00  118.80  118.65                586100   \n",
       "\n",
       "      Turnover (Lacs)  \n",
       "2034           803.56  \n",
       "2033           355.17  \n",
       "2032           340.31  \n",
       "2031           780.01  \n",
       "2030           694.98  "
      ]
     },
     "execution_count": 2,
     "metadata": {},
     "output_type": "execute_result"
    }
   ],
   "source": [
    "df = pd.read_csv('https://raw.githubusercontent.com/mwitiderrick/stockprice/master/NSE-TATAGLOBAL.csv')\n",
    "df=df.iloc[::-1]\n",
    "df.head()"
   ]
  },
  {
   "cell_type": "code",
   "execution_count": 3,
   "id": "641fc8dd",
   "metadata": {},
   "outputs": [
    {
     "data": {
      "text/html": [
       "<div>\n",
       "<style scoped>\n",
       "    .dataframe tbody tr th:only-of-type {\n",
       "        vertical-align: middle;\n",
       "    }\n",
       "\n",
       "    .dataframe tbody tr th {\n",
       "        vertical-align: top;\n",
       "    }\n",
       "\n",
       "    .dataframe thead th {\n",
       "        text-align: right;\n",
       "    }\n",
       "</style>\n",
       "<table border=\"1\" class=\"dataframe\">\n",
       "  <thead>\n",
       "    <tr style=\"text-align: right;\">\n",
       "      <th></th>\n",
       "      <th>Date</th>\n",
       "      <th>Open</th>\n",
       "      <th>High</th>\n",
       "      <th>Low</th>\n",
       "      <th>Last</th>\n",
       "      <th>Close</th>\n",
       "      <th>Total Trade Quantity</th>\n",
       "      <th>Turnover (Lacs)</th>\n",
       "    </tr>\n",
       "  </thead>\n",
       "  <tbody>\n",
       "    <tr>\n",
       "      <th>4</th>\n",
       "      <td>2018-09-24</td>\n",
       "      <td>233.55</td>\n",
       "      <td>239.20</td>\n",
       "      <td>230.75</td>\n",
       "      <td>234.00</td>\n",
       "      <td>233.30</td>\n",
       "      <td>3423509</td>\n",
       "      <td>7999.55</td>\n",
       "    </tr>\n",
       "    <tr>\n",
       "      <th>3</th>\n",
       "      <td>2018-09-25</td>\n",
       "      <td>233.30</td>\n",
       "      <td>236.75</td>\n",
       "      <td>232.00</td>\n",
       "      <td>236.25</td>\n",
       "      <td>236.10</td>\n",
       "      <td>2349368</td>\n",
       "      <td>5503.90</td>\n",
       "    </tr>\n",
       "    <tr>\n",
       "      <th>2</th>\n",
       "      <td>2018-09-26</td>\n",
       "      <td>240.00</td>\n",
       "      <td>240.00</td>\n",
       "      <td>232.50</td>\n",
       "      <td>235.00</td>\n",
       "      <td>234.25</td>\n",
       "      <td>2240909</td>\n",
       "      <td>5248.60</td>\n",
       "    </tr>\n",
       "    <tr>\n",
       "      <th>1</th>\n",
       "      <td>2018-09-27</td>\n",
       "      <td>234.55</td>\n",
       "      <td>236.80</td>\n",
       "      <td>231.10</td>\n",
       "      <td>233.80</td>\n",
       "      <td>233.25</td>\n",
       "      <td>5082859</td>\n",
       "      <td>11859.95</td>\n",
       "    </tr>\n",
       "    <tr>\n",
       "      <th>0</th>\n",
       "      <td>2018-09-28</td>\n",
       "      <td>234.05</td>\n",
       "      <td>235.95</td>\n",
       "      <td>230.20</td>\n",
       "      <td>233.50</td>\n",
       "      <td>233.75</td>\n",
       "      <td>3069914</td>\n",
       "      <td>7162.35</td>\n",
       "    </tr>\n",
       "  </tbody>\n",
       "</table>\n",
       "</div>"
      ],
      "text/plain": [
       "         Date    Open    High     Low    Last   Close  Total Trade Quantity  \\\n",
       "4  2018-09-24  233.55  239.20  230.75  234.00  233.30               3423509   \n",
       "3  2018-09-25  233.30  236.75  232.00  236.25  236.10               2349368   \n",
       "2  2018-09-26  240.00  240.00  232.50  235.00  234.25               2240909   \n",
       "1  2018-09-27  234.55  236.80  231.10  233.80  233.25               5082859   \n",
       "0  2018-09-28  234.05  235.95  230.20  233.50  233.75               3069914   \n",
       "\n",
       "   Turnover (Lacs)  \n",
       "4          7999.55  \n",
       "3          5503.90  \n",
       "2          5248.60  \n",
       "1         11859.95  \n",
       "0          7162.35  "
      ]
     },
     "execution_count": 3,
     "metadata": {},
     "output_type": "execute_result"
    }
   ],
   "source": [
    "df.tail()"
   ]
  },
  {
   "cell_type": "markdown",
   "id": "48f10ddc",
   "metadata": {},
   "source": [
    "# Data Processing"
   ]
  },
  {
   "cell_type": "code",
   "execution_count": 4,
   "id": "2105d237",
   "metadata": {},
   "outputs": [
    {
     "data": {
      "text/plain": [
       "Date                    0\n",
       "Open                    0\n",
       "High                    0\n",
       "Low                     0\n",
       "Last                    0\n",
       "Close                   0\n",
       "Total Trade Quantity    0\n",
       "Turnover (Lacs)         0\n",
       "dtype: int64"
      ]
     },
     "execution_count": 4,
     "metadata": {},
     "output_type": "execute_result"
    }
   ],
   "source": [
    "df.isnull().sum()"
   ]
  },
  {
   "cell_type": "code",
   "execution_count": 5,
   "id": "37ee4476",
   "metadata": {},
   "outputs": [
    {
     "data": {
      "text/plain": [
       "(2035, 8)"
      ]
     },
     "execution_count": 5,
     "metadata": {},
     "output_type": "execute_result"
    }
   ],
   "source": [
    "df.shape"
   ]
  },
  {
   "cell_type": "code",
   "execution_count": 6,
   "id": "bdb28ba7",
   "metadata": {},
   "outputs": [],
   "source": [
    "df_high=df.reset_index()['High']"
   ]
  },
  {
   "cell_type": "code",
   "execution_count": 7,
   "id": "964f0115",
   "metadata": {},
   "outputs": [
    {
     "data": {
      "text/plain": [
       "[<matplotlib.lines.Line2D at 0x2e488ea9190>]"
      ]
     },
     "execution_count": 7,
     "metadata": {},
     "output_type": "execute_result"
    },
    {
     "data": {
      "image/png": "[encoded data removed]",
      "text/plain": [
       "<Figure size 432x288 with 1 Axes>"
      ]
     },
     "metadata": {
      "needs_background": "light"
     },
     "output_type": "display_data"
    }
   ],
   "source": [
    "plt.plot(df_high)"
   ]
  },
  {
   "cell_type": "code",
   "execution_count": 8,
   "id": "99b1edaa",
   "metadata": {},
   "outputs": [],
   "source": [
    "scaler = MinMaxScaler(feature_range = (0,1))\n",
    "df_high = scaler.fit_transform(np.array(df_high).reshape(-1,1))"
   ]
  },
  {
   "cell_type": "code",
   "execution_count": 9,
   "id": "07fa7238",
   "metadata": {},
   "outputs": [
    {
     "data": {
      "text/plain": [
       "(2035, 1)"
      ]
     },
     "execution_count": 9,
     "metadata": {},
     "output_type": "execute_result"
    }
   ],
   "source": [
    "df_high.shape"
   ]
  },
  {
   "cell_type": "code",
   "execution_count": 10,
   "id": "b979458a",
   "metadata": {},
   "outputs": [
    {
     "data": {
      "text/plain": [
       "array([[0.16344786],\n",
       "       [0.15938199],\n",
       "       [0.15917869],\n",
       "       ...,\n",
       "       [0.6391543 ],\n",
       "       [0.62614353],\n",
       "       [0.62268754]])"
      ]
     },
     "execution_count": 10,
     "metadata": {},
     "output_type": "execute_result"
    }
   ],
   "source": [
    "df_high"
   ]
  },
  {
   "cell_type": "markdown",
   "id": "d60e3751",
   "metadata": {},
   "source": [
    "# Split the Data"
   ]
  },
  {
   "cell_type": "code",
   "execution_count": 11,
   "id": "e72ec54f",
   "metadata": {},
   "outputs": [],
   "source": [
    "training_size = int(len(df_high) * 0.75)\n",
    "test_size = len(df_high) - training_size\n",
    "train_data, test_data = df_high[0:training_size,:], df_high[training_size:len(df_high),:1]"
   ]
  },
  {
   "cell_type": "code",
   "execution_count": 12,
   "id": "9ea19ddc",
   "metadata": {},
   "outputs": [
    {
     "data": {
      "text/plain": [
       "(1526, 509)"
      ]
     },
     "execution_count": 12,
     "metadata": {},
     "output_type": "execute_result"
    }
   ],
   "source": [
    "training_size,test_size"
   ]
  },
  {
   "cell_type": "code",
   "execution_count": 13,
   "id": "76bc1e91",
   "metadata": {},
   "outputs": [],
   "source": [
    "def create_dataset(dataset, time_step = 1):\n",
    "    dataX, dataY = [], []\n",
    "    for i in range(len(dataset) - time_step - 1):\n",
    "        a = dataset[i:(i+time_step), 0]\n",
    "        dataX.append(a)\n",
    "        dataY.append(dataset[i+time_step, 0])\n",
    "        \n",
    "    return np.array(dataX), np.array(dataY)"
   ]
  },
  {
   "cell_type": "code",
   "execution_count": 14,
   "id": "693c0326",
   "metadata": {},
   "outputs": [],
   "source": [
    "time_step = 100\n",
    "x_train, y_train = create_dataset(train_data, time_step)\n",
    "x_test, y_test = create_dataset(test_data, time_step)"
   ]
  },
  {
   "cell_type": "code",
   "execution_count": 15,
   "id": "9db94ee1",
   "metadata": {},
   "outputs": [],
   "source": [
    "#Reshape the input to be [samples, time steps, features] which is the requirement of LSTM\n",
    "x_train = x_train.reshape(x_train.shape[0], x_train.shape[1], 1)\n",
    "x_test = x_test.reshape(x_test.shape[0], x_test.shape[1], 1)"
   ]
  },
  {
   "cell_type": "code",
   "execution_count": 16,
   "id": "7fe8cdaf",
   "metadata": {},
   "outputs": [
    {
     "name": "stdout",
     "output_type": "stream",
     "text": [
      "(1425, 100, 1)\n",
      "(1425,)\n"
     ]
    },
    {
     "data": {
      "text/plain": [
       "(None, None)"
      ]
     },
     "execution_count": 16,
     "metadata": {},
     "output_type": "execute_result"
    }
   ],
   "source": [
    "print(x_train.shape), print(y_train.shape)"
   ]
  },
  {
   "cell_type": "code",
   "execution_count": 17,
   "id": "90e9c02c",
   "metadata": {},
   "outputs": [
    {
     "name": "stdout",
     "output_type": "stream",
     "text": [
      "(408, 100, 1)\n",
      "(408,)\n"
     ]
    },
    {
     "data": {
      "text/plain": [
       "(None, None)"
      ]
     },
     "execution_count": 17,
     "metadata": {},
     "output_type": "execute_result"
    }
   ],
   "source": [
    "print(x_test.shape), print(y_test.shape)"
   ]
  },
  {
   "cell_type": "markdown",
   "id": "953cd8b5",
   "metadata": {},
   "source": [
    "# Create the LSTM Model"
   ]
  },
  {
   "cell_type": "code",
   "execution_count": 18,
   "id": "34adaa77",
   "metadata": {},
   "outputs": [],
   "source": [
    "model = Sequential()\n",
    "model.add(LSTM(50, return_sequences = True, input_shape = (100,1)))\n",
    "model.add(LSTM(50, return_sequences = True))\n",
    "model.add(LSTM(50))\n",
    "model.add(Dense(1))\n",
    "model.compile(loss = 'mean_squared_error', optimizer = 'adam')"
   ]
  },
  {
   "cell_type": "code",
   "execution_count": 19,
   "id": "f77b59b1",
   "metadata": {},
   "outputs": [
    {
     "name": "stdout",
     "output_type": "stream",
     "text": [
      "Model: \"sequential\"\n",
      "_________________________________________________________________\n",
      "Layer (type)                 Output Shape              Param #   \n",
      "=================================================================\n",
      "lstm (LSTM)                  (None, 100, 50)           10400     \n",
      "_________________________________________________________________\n",
      "lstm_1 (LSTM)                (None, 100, 50)           20200     \n",
      "_________________________________________________________________\n",
      "lstm_2 (LSTM)                (None, 50)                20200     \n",
      "_________________________________________________________________\n",
      "dense (Dense)                (None, 1)                 51        \n",
      "=================================================================\n",
      "Total params: 50,851\n",
      "Trainable params: 50,851\n",
      "Non-trainable params: 0\n",
      "_________________________________________________________________\n"
     ]
    }
   ],
   "source": [
    "model.summary()"
   ]
  },
  {
   "cell_type": "code",
   "execution_count": 20,
   "id": "2d6b3efc",
   "metadata": {},
   "outputs": [
    {
     "name": "stdout",
     "output_type": "stream",
     "text": [
      "Epoch 1/100\n",
      "23/23 [==============================] - 22s 462ms/step - loss: 0.0105 - val_loss: 0.0373\n",
      "Epoch 2/100\n",
      "23/23 [==============================] - 9s 411ms/step - loss: 0.0019 - val_loss: 0.0043\n",
      "Epoch 3/100\n",
      "23/23 [==============================] - 9s 412ms/step - loss: 8.1028e-04 - val_loss: 0.0030\n",
      "Epoch 4/100\n",
      "23/23 [==============================] - 10s 416ms/step - loss: 7.5385e-04 - val_loss: 0.0029\n",
      "Epoch 5/100\n",
      "23/23 [==============================] - 10s 414ms/step - loss: 7.3011e-04 - val_loss: 0.0026\n",
      "Epoch 6/100\n",
      "23/23 [==============================] - 9s 412ms/step - loss: 7.3729e-04 - val_loss: 0.0030\n",
      "Epoch 7/100\n",
      "23/23 [==============================] - 9s 413ms/step - loss: 6.6594e-04 - val_loss: 0.0033\n",
      "Epoch 8/100\n",
      "23/23 [==============================] - 10s 412ms/step - loss: 6.3247e-04 - val_loss: 0.0030\n",
      "Epoch 9/100\n",
      "23/23 [==============================] - 10s 416ms/step - loss: 6.2140e-04 - val_loss: 0.0039\n",
      "Epoch 10/100\n",
      "23/23 [==============================] - 10s 414ms/step - loss: 5.9508e-04 - val_loss: 0.0047\n",
      "Epoch 11/100\n",
      "23/23 [==============================] - 10s 414ms/step - loss: 5.7820e-04 - val_loss: 0.0038\n",
      "Epoch 12/100\n",
      "23/23 [==============================] - 9s 413ms/step - loss: 5.9552e-04 - val_loss: 0.0046\n",
      "Epoch 13/100\n",
      "23/23 [==============================] - 9s 412ms/step - loss: 5.4889e-04 - val_loss: 0.0044\n",
      "Epoch 14/100\n",
      "23/23 [==============================] - 9s 412ms/step - loss: 5.4692e-04 - val_loss: 0.0072\n",
      "Epoch 15/100\n",
      "23/23 [==============================] - 10s 414ms/step - loss: 5.1016e-04 - val_loss: 0.0039\n",
      "Epoch 16/100\n",
      "23/23 [==============================] - 10s 414ms/step - loss: 5.1502e-04 - val_loss: 0.0052\n",
      "Epoch 17/100\n",
      "23/23 [==============================] - 9s 413ms/step - loss: 4.8825e-04 - val_loss: 0.0058\n",
      "Epoch 18/100\n",
      "23/23 [==============================] - 10s 434ms/step - loss: 4.7321e-04 - val_loss: 0.0078\n",
      "Epoch 19/100\n",
      "23/23 [==============================] - 10s 415ms/step - loss: 4.5860e-04 - val_loss: 0.0068\n",
      "Epoch 20/100\n",
      "23/23 [==============================] - 10s 420ms/step - loss: 4.4695e-04 - val_loss: 0.0042\n",
      "Epoch 21/100\n",
      "23/23 [==============================] - 9s 412ms/step - loss: 4.4712e-04 - val_loss: 0.0058\n",
      "Epoch 22/100\n",
      "23/23 [==============================] - 10s 415ms/step - loss: 4.2616e-04 - val_loss: 0.0045\n",
      "Epoch 23/100\n",
      "23/23 [==============================] - 10s 414ms/step - loss: 4.3903e-04 - val_loss: 0.0059\n",
      "Epoch 24/100\n",
      "23/23 [==============================] - 9s 411ms/step - loss: 4.6682e-04 - val_loss: 0.0118\n",
      "Epoch 25/100\n",
      "23/23 [==============================] - 9s 412ms/step - loss: 4.1267e-04 - val_loss: 0.0060\n",
      "Epoch 26/100\n",
      "23/23 [==============================] - 10s 414ms/step - loss: 4.0258e-04 - val_loss: 0.0047\n",
      "Epoch 27/100\n",
      "23/23 [==============================] - 9s 411ms/step - loss: 3.6510e-04 - val_loss: 0.0056\n",
      "Epoch 28/100\n",
      "23/23 [==============================] - 9s 413ms/step - loss: 3.8241e-04 - val_loss: 0.0068\n",
      "Epoch 29/100\n",
      "23/23 [==============================] - 9s 412ms/step - loss: 3.9518e-04 - val_loss: 0.0048\n",
      "Epoch 30/100\n",
      "23/23 [==============================] - 10s 416ms/step - loss: 3.3369e-04 - val_loss: 0.0045\n",
      "Epoch 31/100\n",
      "23/23 [==============================] - 9s 412ms/step - loss: 3.3051e-04 - val_loss: 0.0057\n",
      "Epoch 32/100\n",
      "23/23 [==============================] - 9s 413ms/step - loss: 3.2603e-04 - val_loss: 0.0069\n",
      "Epoch 33/100\n",
      "23/23 [==============================] - 9s 412ms/step - loss: 3.0328e-04 - val_loss: 0.0068\n",
      "Epoch 34/100\n",
      "23/23 [==============================] - 10s 414ms/step - loss: 2.9357e-04 - val_loss: 0.0026\n",
      "Epoch 35/100\n",
      "23/23 [==============================] - 10s 427ms/step - loss: 2.7888e-04 - val_loss: 0.0039\n",
      "Epoch 36/100\n",
      "23/23 [==============================] - 10s 416ms/step - loss: 2.7174e-04 - val_loss: 0.0037\n",
      "Epoch 37/100\n",
      "23/23 [==============================] - 11s 465ms/step - loss: 2.5542e-04 - val_loss: 0.0035\n",
      "Epoch 38/100\n",
      "23/23 [==============================] - 10s 430ms/step - loss: 2.6007e-04 - val_loss: 0.0020\n",
      "Epoch 39/100\n",
      "23/23 [==============================] - 9s 412ms/step - loss: 2.4013e-04 - val_loss: 0.0040\n",
      "Epoch 40/100\n",
      "23/23 [==============================] - 9s 411ms/step - loss: 2.5537e-04 - val_loss: 0.0033\n",
      "Epoch 41/100\n",
      "23/23 [==============================] - 9s 413ms/step - loss: 2.3806e-04 - val_loss: 0.0042\n",
      "Epoch 42/100\n",
      "23/23 [==============================] - 9s 413ms/step - loss: 2.1973e-04 - val_loss: 0.0029\n",
      "Epoch 43/100\n",
      "23/23 [==============================] - 9s 413ms/step - loss: 2.1896e-04 - val_loss: 0.0033\n",
      "Epoch 44/100\n",
      "23/23 [==============================] - 9s 410ms/step - loss: 2.5021e-04 - val_loss: 0.0015\n",
      "Epoch 45/100\n",
      "23/23 [==============================] - 9s 411ms/step - loss: 1.9559e-04 - val_loss: 0.0021\n",
      "Epoch 46/100\n",
      "23/23 [==============================] - 9s 411ms/step - loss: 1.9355e-04 - val_loss: 0.0016\n",
      "Epoch 47/100\n",
      "23/23 [==============================] - 9s 413ms/step - loss: 1.8180e-04 - val_loss: 0.0018\n",
      "Epoch 48/100\n",
      "23/23 [==============================] - 9s 411ms/step - loss: 1.7127e-04 - val_loss: 0.0023\n",
      "Epoch 49/100\n",
      "23/23 [==============================] - 9s 411ms/step - loss: 1.7765e-04 - val_loss: 0.0022\n",
      "Epoch 50/100\n",
      "23/23 [==============================] - 9s 411ms/step - loss: 1.9594e-04 - val_loss: 8.7836e-04\n",
      "Epoch 51/100\n",
      "23/23 [==============================] - 9s 410ms/step - loss: 1.6069e-04 - val_loss: 0.0018\n",
      "Epoch 52/100\n",
      "23/23 [==============================] - 9s 410ms/step - loss: 1.5460e-04 - val_loss: 9.8345e-04\n",
      "Epoch 53/100\n",
      "23/23 [==============================] - 9s 410ms/step - loss: 1.6301e-04 - val_loss: 0.0013\n",
      "Epoch 54/100\n",
      "23/23 [==============================] - 9s 408ms/step - loss: 1.5228e-04 - val_loss: 0.0012\n",
      "Epoch 55/100\n",
      "23/23 [==============================] - 9s 410ms/step - loss: 1.4462e-04 - val_loss: 0.0012\n",
      "Epoch 56/100\n",
      "23/23 [==============================] - 9s 410ms/step - loss: 1.4276e-04 - val_loss: 0.0014\n",
      "Epoch 57/100\n",
      "23/23 [==============================] - 9s 407ms/step - loss: 1.5047e-04 - val_loss: 0.0012\n",
      "Epoch 58/100\n",
      "23/23 [==============================] - 9s 409ms/step - loss: 1.3843e-04 - val_loss: 4.8307e-04\n",
      "Epoch 59/100\n",
      "23/23 [==============================] - 9s 409ms/step - loss: 1.5287e-04 - val_loss: 0.0014\n",
      "Epoch 60/100\n",
      "23/23 [==============================] - 9s 408ms/step - loss: 1.4287e-04 - val_loss: 5.8500e-04\n",
      "Epoch 61/100\n",
      "23/23 [==============================] - 9s 409ms/step - loss: 1.3929e-04 - val_loss: 0.0014\n",
      "Epoch 62/100\n",
      "23/23 [==============================] - 9s 408ms/step - loss: 1.3310e-04 - val_loss: 8.4103e-04\n",
      "Epoch 63/100\n",
      "23/23 [==============================] - 9s 410ms/step - loss: 1.2423e-04 - val_loss: 0.0011\n",
      "Epoch 64/100\n",
      "23/23 [==============================] - 9s 413ms/step - loss: 1.2837e-04 - val_loss: 4.9395e-04\n",
      "Epoch 65/100\n",
      "23/23 [==============================] - 9s 409ms/step - loss: 1.3267e-04 - val_loss: 9.3701e-04\n",
      "Epoch 66/100\n",
      "23/23 [==============================] - 9s 408ms/step - loss: 1.2691e-04 - val_loss: 0.0016\n",
      "Epoch 67/100\n",
      "23/23 [==============================] - 9s 407ms/step - loss: 1.2302e-04 - val_loss: 0.0015\n",
      "Epoch 68/100\n",
      "23/23 [==============================] - 9s 410ms/step - loss: 1.1737e-04 - val_loss: 8.6317e-04\n",
      "Epoch 69/100\n",
      "23/23 [==============================] - 9s 409ms/step - loss: 1.2099e-04 - val_loss: 8.5609e-04\n",
      "Epoch 70/100\n",
      "23/23 [==============================] - 9s 410ms/step - loss: 1.2021e-04 - val_loss: 8.6889e-04\n",
      "Epoch 71/100\n",
      "23/23 [==============================] - 9s 410ms/step - loss: 1.1904e-04 - val_loss: 8.6991e-04\n",
      "Epoch 72/100\n",
      "23/23 [==============================] - 9s 410ms/step - loss: 1.3396e-04 - val_loss: 0.0010\n",
      "Epoch 73/100\n",
      "23/23 [==============================] - 9s 412ms/step - loss: 1.3633e-04 - val_loss: 5.0190e-04\n",
      "Epoch 74/100\n",
      "23/23 [==============================] - 9s 410ms/step - loss: 1.2079e-04 - val_loss: 0.0012\n",
      "Epoch 75/100\n",
      "23/23 [==============================] - 9s 410ms/step - loss: 1.4173e-04 - val_loss: 0.0012\n",
      "Epoch 76/100\n",
      "23/23 [==============================] - 9s 410ms/step - loss: 1.4528e-04 - val_loss: 8.3914e-04\n",
      "Epoch 77/100\n",
      "23/23 [==============================] - 9s 410ms/step - loss: 1.1376e-04 - val_loss: 5.3880e-04\n"
     ]
    },
    {
     "name": "stdout",
     "output_type": "stream",
     "text": [
      "Epoch 78/100\n",
      "23/23 [==============================] - 10s 429ms/step - loss: 1.2757e-04 - val_loss: 0.0010\n",
      "Epoch 79/100\n",
      "23/23 [==============================] - 11s 464ms/step - loss: 1.1598e-04 - val_loss: 8.2571e-04\n",
      "Epoch 80/100\n",
      "23/23 [==============================] - 9s 408ms/step - loss: 1.1572e-04 - val_loss: 7.7930e-04\n",
      "Epoch 81/100\n",
      "23/23 [==============================] - 9s 412ms/step - loss: 1.1898e-04 - val_loss: 7.3150e-04\n",
      "Epoch 82/100\n",
      "23/23 [==============================] - 9s 410ms/step - loss: 1.1250e-04 - val_loss: 9.9662e-04\n",
      "Epoch 83/100\n",
      "23/23 [==============================] - 9s 410ms/step - loss: 1.3022e-04 - val_loss: 7.8620e-04\n",
      "Epoch 84/100\n",
      "23/23 [==============================] - 9s 410ms/step - loss: 1.2444e-04 - val_loss: 5.7232e-04\n",
      "Epoch 85/100\n",
      "23/23 [==============================] - 9s 410ms/step - loss: 1.2009e-04 - val_loss: 8.2760e-04\n",
      "Epoch 86/100\n",
      "23/23 [==============================] - 9s 410ms/step - loss: 1.1059e-04 - val_loss: 8.0914e-04\n",
      "Epoch 87/100\n",
      "23/23 [==============================] - 9s 409ms/step - loss: 1.3940e-04 - val_loss: 7.6314e-04\n",
      "Epoch 88/100\n",
      "23/23 [==============================] - 9s 410ms/step - loss: 1.1796e-04 - val_loss: 6.5536e-04\n",
      "Epoch 89/100\n",
      "23/23 [==============================] - 9s 413ms/step - loss: 1.1466e-04 - val_loss: 7.2390e-04\n",
      "Epoch 90/100\n",
      "23/23 [==============================] - 9s 410ms/step - loss: 1.1320e-04 - val_loss: 7.0788e-04\n",
      "Epoch 91/100\n",
      "23/23 [==============================] - 9s 409ms/step - loss: 1.1197e-04 - val_loss: 8.0202e-04\n",
      "Epoch 92/100\n",
      "23/23 [==============================] - 9s 409ms/step - loss: 1.1118e-04 - val_loss: 5.7518e-04\n",
      "Epoch 93/100\n",
      "23/23 [==============================] - 9s 412ms/step - loss: 1.1844e-04 - val_loss: 8.6717e-04\n",
      "Epoch 94/100\n",
      "23/23 [==============================] - 9s 410ms/step - loss: 1.1134e-04 - val_loss: 5.8521e-04\n",
      "Epoch 95/100\n",
      "23/23 [==============================] - 9s 410ms/step - loss: 1.1792e-04 - val_loss: 7.1170e-04\n",
      "Epoch 96/100\n",
      "23/23 [==============================] - 9s 411ms/step - loss: 1.1240e-04 - val_loss: 5.2144e-04\n",
      "Epoch 97/100\n",
      "23/23 [==============================] - 9s 410ms/step - loss: 1.1158e-04 - val_loss: 5.7022e-04\n",
      "Epoch 98/100\n",
      "23/23 [==============================] - 9s 410ms/step - loss: 1.1635e-04 - val_loss: 6.5722e-04\n",
      "Epoch 99/100\n",
      "23/23 [==============================] - 9s 410ms/step - loss: 1.0876e-04 - val_loss: 9.5390e-04\n",
      "Epoch 100/100\n",
      "23/23 [==============================] - 9s 409ms/step - loss: 1.0796e-04 - val_loss: 8.8961e-04\n"
     ]
    },
    {
     "data": {
      "text/plain": [
       "<tensorflow.python.keras.callbacks.History at 0x2e4898ea0d0>"
      ]
     },
     "execution_count": 20,
     "metadata": {},
     "output_type": "execute_result"
    }
   ],
   "source": [
    "model.fit(x_train, y_train, validation_data = (x_test, y_test), epochs = 100, batch_size = 64, verbose = 1)"
   ]
  },
  {
   "cell_type": "code",
   "execution_count": 21,
   "id": "e7c71aa7",
   "metadata": {},
   "outputs": [],
   "source": [
    "#predict and check performance metrics\n",
    "train_predict = model.predict(x_train)\n",
    "test_predict = model.predict(x_test)"
   ]
  },
  {
   "cell_type": "code",
   "execution_count": 22,
   "id": "02ebb6a2",
   "metadata": {},
   "outputs": [],
   "source": [
    "#Transform back to original form\n",
    "train_predict = scaler.inverse_transform(train_predict)\n",
    "test_predict = scaler.inverse_transform(test_predict)"
   ]
  },
  {
   "cell_type": "code",
   "execution_count": 23,
   "id": "4f6499d7",
   "metadata": {},
   "outputs": [
    {
     "data": {
      "text/plain": [
       "135.56187740715524"
      ]
     },
     "execution_count": 23,
     "metadata": {},
     "output_type": "execute_result"
    }
   ],
   "source": [
    "#RMSE performance metrics\n",
    "math.sqrt(mean_squared_error(y_train, train_predict))"
   ]
  },
  {
   "cell_type": "code",
   "execution_count": 24,
   "id": "873d56f4",
   "metadata": {},
   "outputs": [
    {
     "data": {
      "text/plain": [
       "228.50862264111188"
      ]
     },
     "execution_count": 24,
     "metadata": {},
     "output_type": "execute_result"
    }
   ],
   "source": [
    "#Test Data RMSE\n",
    "math.sqrt(mean_squared_error(y_test, test_predict))"
   ]
  },
  {
   "cell_type": "markdown",
   "id": "55db6383",
   "metadata": {},
   "source": [
    "# Plotting"
   ]
  },
  {
   "cell_type": "code",
   "execution_count": 25,
   "id": "e3077409",
   "metadata": {},
   "outputs": [
    {
     "data": {
      "image/png": "[encoded data removed]",
      "text/plain": [
       "<Figure size 432x288 with 1 Axes>"
      ]
     },
     "metadata": {
      "needs_background": "light"
     },
     "output_type": "display_data"
    }
   ],
   "source": [
    "#Shift train prediction for plotting\n",
    "look_back = 100\n",
    "trainPredictPlot = np.empty_like(df_high)\n",
    "trainPredictPlot[:,:] = np.nan\n",
    "trainPredictPlot[look_back:len(train_predict) + look_back, :] = train_predict\n",
    "\n",
    "#Shift test prediction for plotting\n",
    "testPredictPlot = np.empty_like(df_high)\n",
    "testPredictPlot[:,:] = np.nan\n",
    "testPredictPlot[len(train_predict) + (look_back * 2)+1:len(df_high) - 1, :] = test_predict\n",
    "\n",
    "#Plot baseline and predictions\n",
    "plt.plot(scaler.inverse_transform(df_high))\n",
    "plt.plot(trainPredictPlot)\n",
    "plt.plot(testPredictPlot)\n",
    "plt.show()"
   ]
  },
  {
   "cell_type": "code",
   "execution_count": 26,
   "id": "cb298e68",
   "metadata": {},
   "outputs": [
    {
     "data": {
      "text/plain": [
       "(509, (408, 100, 1))"
      ]
     },
     "execution_count": 26,
     "metadata": {},
     "output_type": "execute_result"
    }
   ],
   "source": [
    "len(test_data), x_test.shape"
   ]
  },
  {
   "cell_type": "code",
   "execution_count": 27,
   "id": "ece42a53",
   "metadata": {},
   "outputs": [
    {
     "data": {
      "text/plain": [
       "(1, 100)"
      ]
     },
     "execution_count": 27,
     "metadata": {},
     "output_type": "execute_result"
    }
   ],
   "source": [
    "x_input = test_data[409:].reshape(1,-1)\n",
    "x_input.shape"
   ]
  },
  {
   "cell_type": "code",
   "execution_count": 28,
   "id": "142506ca",
   "metadata": {},
   "outputs": [],
   "source": [
    "temp_input = list(x_input)\n",
    "temp_input = temp_input[0].tolist()"
   ]
  },
  {
   "cell_type": "code",
   "execution_count": 29,
   "id": "580b7769",
   "metadata": {},
   "outputs": [
    {
     "name": "stdout",
     "output_type": "stream",
     "text": [
      "[0.6085318]\n",
      "101\n",
      "1 day input [0.86013417 0.85464525 0.84448059 0.8072779  0.71843871 0.66192316\n",
      " 0.67696686 0.67554381 0.67310429 0.68428542 0.68936776 0.70217524\n",
      " 0.71803212 0.72941655 0.73144948 0.74486684 0.76926205 0.75991055\n",
      " 0.74242732 0.73958122 0.74771295 0.75991055 0.7584875  0.76621264\n",
      " 0.75462492 0.76316324 0.79670665 0.80585485 0.7889815  0.78003659\n",
      " 0.73978451 0.73002643 0.73490547 0.74872942 0.75991055 0.75462492\n",
      " 0.75401504 0.76174019 0.7737345  0.82008538 0.80585485 0.81154706\n",
      " 0.77434438 0.78633869 0.79284407 0.78328929 0.77109169 0.74385038\n",
      " 0.71193332 0.68733482 0.67818662 0.65257166 0.64301687 0.65643423\n",
      " 0.67656028 0.67371417 0.65114861 0.65521447 0.66761537 0.67838992\n",
      " 0.69993901 0.63122586 0.63508843 0.64098394 0.64545639 0.64118723\n",
      " 0.63854442 0.63081927 0.62472047 0.6330555  0.64728603 0.6574507\n",
      " 0.66761537 0.66720878 0.64159382 0.62776987 0.63651149 0.63630819\n",
      " 0.62980281 0.62817646 0.63813783 0.65358813 0.63183574 0.57653995\n",
      " 0.57816629 0.57613336 0.61943484 0.57979264 0.57288067 0.62573694\n",
      " 0.63102257 0.6361049  0.62776987 0.6269567  0.63590161 0.62594023\n",
      " 0.6391543  0.62614353 0.62268754 0.60853177]\n",
      "1 day output [[0.5792774]]\n",
      "2 day input [0.85464525 0.84448059 0.8072779  0.71843871 0.66192316 0.67696686\n",
      " 0.67554381 0.67310429 0.68428542 0.68936776 0.70217524 0.71803212\n",
      " 0.72941655 0.73144948 0.74486684 0.76926205 0.75991055 0.74242732\n",
      " 0.73958122 0.74771295 0.75991055 0.7584875  0.76621264 0.75462492\n",
      " 0.76316324 0.79670665 0.80585485 0.7889815  0.78003659 0.73978451\n",
      " 0.73002643 0.73490547 0.74872942 0.75991055 0.75462492 0.75401504\n",
      " 0.76174019 0.7737345  0.82008538 0.80585485 0.81154706 0.77434438\n",
      " 0.78633869 0.79284407 0.78328929 0.77109169 0.74385038 0.71193332\n",
      " 0.68733482 0.67818662 0.65257166 0.64301687 0.65643423 0.67656028\n",
      " 0.67371417 0.65114861 0.65521447 0.66761537 0.67838992 0.69993901\n",
      " 0.63122586 0.63508843 0.64098394 0.64545639 0.64118723 0.63854442\n",
      " 0.63081927 0.62472047 0.6330555  0.64728603 0.6574507  0.66761537\n",
      " 0.66720878 0.64159382 0.62776987 0.63651149 0.63630819 0.62980281\n",
      " 0.62817646 0.63813783 0.65358813 0.63183574 0.57653995 0.57816629\n",
      " 0.57613336 0.61943484 0.57979264 0.57288067 0.62573694 0.63102257\n",
      " 0.6361049  0.62776987 0.6269567  0.63590161 0.62594023 0.6391543\n",
      " 0.62614353 0.62268754 0.60853177 0.5792774 ]\n",
      "2 day output [[0.54594535]]\n",
      "3 day input [0.84448059 0.8072779  0.71843871 0.66192316 0.67696686 0.67554381\n",
      " 0.67310429 0.68428542 0.68936776 0.70217524 0.71803212 0.72941655\n",
      " 0.73144948 0.74486684 0.76926205 0.75991055 0.74242732 0.73958122\n",
      " 0.74771295 0.75991055 0.7584875  0.76621264 0.75462492 0.76316324\n",
      " 0.79670665 0.80585485 0.7889815  0.78003659 0.73978451 0.73002643\n",
      " 0.73490547 0.74872942 0.75991055 0.75462492 0.75401504 0.76174019\n",
      " 0.7737345  0.82008538 0.80585485 0.81154706 0.77434438 0.78633869\n",
      " 0.79284407 0.78328929 0.77109169 0.74385038 0.71193332 0.68733482\n",
      " 0.67818662 0.65257166 0.64301687 0.65643423 0.67656028 0.67371417\n",
      " 0.65114861 0.65521447 0.66761537 0.67838992 0.69993901 0.63122586\n",
      " 0.63508843 0.64098394 0.64545639 0.64118723 0.63854442 0.63081927\n",
      " 0.62472047 0.6330555  0.64728603 0.6574507  0.66761537 0.66720878\n",
      " 0.64159382 0.62776987 0.63651149 0.63630819 0.62980281 0.62817646\n",
      " 0.63813783 0.65358813 0.63183574 0.57653995 0.57816629 0.57613336\n",
      " 0.61943484 0.57979264 0.57288067 0.62573694 0.63102257 0.6361049\n",
      " 0.62776987 0.6269567  0.63590161 0.62594023 0.6391543  0.62614353\n",
      " 0.62268754 0.60853177 0.5792774  0.54594535]\n",
      "3 day output [[0.51734704]]\n",
      "4 day input [0.8072779  0.71843871 0.66192316 0.67696686 0.67554381 0.67310429\n",
      " 0.68428542 0.68936776 0.70217524 0.71803212 0.72941655 0.73144948\n",
      " 0.74486684 0.76926205 0.75991055 0.74242732 0.73958122 0.74771295\n",
      " 0.75991055 0.7584875  0.76621264 0.75462492 0.76316324 0.79670665\n",
      " 0.80585485 0.7889815  0.78003659 0.73978451 0.73002643 0.73490547\n",
      " 0.74872942 0.75991055 0.75462492 0.75401504 0.76174019 0.7737345\n",
      " 0.82008538 0.80585485 0.81154706 0.77434438 0.78633869 0.79284407\n",
      " 0.78328929 0.77109169 0.74385038 0.71193332 0.68733482 0.67818662\n",
      " 0.65257166 0.64301687 0.65643423 0.67656028 0.67371417 0.65114861\n",
      " 0.65521447 0.66761537 0.67838992 0.69993901 0.63122586 0.63508843\n",
      " 0.64098394 0.64545639 0.64118723 0.63854442 0.63081927 0.62472047\n",
      " 0.6330555  0.64728603 0.6574507  0.66761537 0.66720878 0.64159382\n",
      " 0.62776987 0.63651149 0.63630819 0.62980281 0.62817646 0.63813783\n",
      " 0.65358813 0.63183574 0.57653995 0.57816629 0.57613336 0.61943484\n",
      " 0.57979264 0.57288067 0.62573694 0.63102257 0.6361049  0.62776987\n",
      " 0.6269567  0.63590161 0.62594023 0.6391543  0.62614353 0.62268754\n",
      " 0.60853177 0.5792774  0.54594535 0.51734704]\n",
      "4 day output [[0.49387455]]\n",
      "5 day input [0.71843871 0.66192316 0.67696686 0.67554381 0.67310429 0.68428542\n",
      " 0.68936776 0.70217524 0.71803212 0.72941655 0.73144948 0.74486684\n",
      " 0.76926205 0.75991055 0.74242732 0.73958122 0.74771295 0.75991055\n",
      " 0.7584875  0.76621264 0.75462492 0.76316324 0.79670665 0.80585485\n",
      " 0.7889815  0.78003659 0.73978451 0.73002643 0.73490547 0.74872942\n",
      " 0.75991055 0.75462492 0.75401504 0.76174019 0.7737345  0.82008538\n",
      " 0.80585485 0.81154706 0.77434438 0.78633869 0.79284407 0.78328929\n",
      " 0.77109169 0.74385038 0.71193332 0.68733482 0.67818662 0.65257166\n",
      " 0.64301687 0.65643423 0.67656028 0.67371417 0.65114861 0.65521447\n",
      " 0.66761537 0.67838992 0.69993901 0.63122586 0.63508843 0.64098394\n",
      " 0.64545639 0.64118723 0.63854442 0.63081927 0.62472047 0.6330555\n",
      " 0.64728603 0.6574507  0.66761537 0.66720878 0.64159382 0.62776987\n",
      " 0.63651149 0.63630819 0.62980281 0.62817646 0.63813783 0.65358813\n",
      " 0.63183574 0.57653995 0.57816629 0.57613336 0.61943484 0.57979264\n",
      " 0.57288067 0.62573694 0.63102257 0.6361049  0.62776987 0.6269567\n",
      " 0.63590161 0.62594023 0.6391543  0.62614353 0.62268754 0.60853177\n",
      " 0.5792774  0.54594535 0.51734704 0.49387455]\n",
      "5 day output [[0.4747107]]\n",
      "6 day input [0.66192316 0.67696686 0.67554381 0.67310429 0.68428542 0.68936776\n",
      " 0.70217524 0.71803212 0.72941655 0.73144948 0.74486684 0.76926205\n",
      " 0.75991055 0.74242732 0.73958122 0.74771295 0.75991055 0.7584875\n",
      " 0.76621264 0.75462492 0.76316324 0.79670665 0.80585485 0.7889815\n",
      " 0.78003659 0.73978451 0.73002643 0.73490547 0.74872942 0.75991055\n",
      " 0.75462492 0.75401504 0.76174019 0.7737345  0.82008538 0.80585485\n",
      " 0.81154706 0.77434438 0.78633869 0.79284407 0.78328929 0.77109169\n",
      " 0.74385038 0.71193332 0.68733482 0.67818662 0.65257166 0.64301687\n",
      " 0.65643423 0.67656028 0.67371417 0.65114861 0.65521447 0.66761537\n",
      " 0.67838992 0.69993901 0.63122586 0.63508843 0.64098394 0.64545639\n",
      " 0.64118723 0.63854442 0.63081927 0.62472047 0.6330555  0.64728603\n",
      " 0.6574507  0.66761537 0.66720878 0.64159382 0.62776987 0.63651149\n",
      " 0.63630819 0.62980281 0.62817646 0.63813783 0.65358813 0.63183574\n",
      " 0.57653995 0.57816629 0.57613336 0.61943484 0.57979264 0.57288067\n",
      " 0.62573694 0.63102257 0.6361049  0.62776987 0.6269567  0.63590161\n",
      " 0.62594023 0.6391543  0.62614353 0.62268754 0.60853177 0.5792774\n",
      " 0.54594535 0.51734704 0.49387455 0.4747107 ]\n",
      "6 day output [[0.45903334]]\n",
      "7 day input [0.67696686 0.67554381 0.67310429 0.68428542 0.68936776 0.70217524\n",
      " 0.71803212 0.72941655 0.73144948 0.74486684 0.76926205 0.75991055\n",
      " 0.74242732 0.73958122 0.74771295 0.75991055 0.7584875  0.76621264\n",
      " 0.75462492 0.76316324 0.79670665 0.80585485 0.7889815  0.78003659\n",
      " 0.73978451 0.73002643 0.73490547 0.74872942 0.75991055 0.75462492\n",
      " 0.75401504 0.76174019 0.7737345  0.82008538 0.80585485 0.81154706\n",
      " 0.77434438 0.78633869 0.79284407 0.78328929 0.77109169 0.74385038\n",
      " 0.71193332 0.68733482 0.67818662 0.65257166 0.64301687 0.65643423\n",
      " 0.67656028 0.67371417 0.65114861 0.65521447 0.66761537 0.67838992\n",
      " 0.69993901 0.63122586 0.63508843 0.64098394 0.64545639 0.64118723\n",
      " 0.63854442 0.63081927 0.62472047 0.6330555  0.64728603 0.6574507\n",
      " 0.66761537 0.66720878 0.64159382 0.62776987 0.63651149 0.63630819\n",
      " 0.62980281 0.62817646 0.63813783 0.65358813 0.63183574 0.57653995\n",
      " 0.57816629 0.57613336 0.61943484 0.57979264 0.57288067 0.62573694\n",
      " 0.63102257 0.6361049  0.62776987 0.6269567  0.63590161 0.62594023\n",
      " 0.6391543  0.62614353 0.62268754 0.60853177 0.5792774  0.54594535\n",
      " 0.51734704 0.49387455 0.4747107  0.45903334]\n",
      "7 day output [[0.4460111]]\n",
      "8 day input [0.67554381 0.67310429 0.68428542 0.68936776 0.70217524 0.71803212\n",
      " 0.72941655 0.73144948 0.74486684 0.76926205 0.75991055 0.74242732\n",
      " 0.73958122 0.74771295 0.75991055 0.7584875  0.76621264 0.75462492\n",
      " 0.76316324 0.79670665 0.80585485 0.7889815  0.78003659 0.73978451\n",
      " 0.73002643 0.73490547 0.74872942 0.75991055 0.75462492 0.75401504\n",
      " 0.76174019 0.7737345  0.82008538 0.80585485 0.81154706 0.77434438\n",
      " 0.78633869 0.79284407 0.78328929 0.77109169 0.74385038 0.71193332\n",
      " 0.68733482 0.67818662 0.65257166 0.64301687 0.65643423 0.67656028\n",
      " 0.67371417 0.65114861 0.65521447 0.66761537 0.67838992 0.69993901\n",
      " 0.63122586 0.63508843 0.64098394 0.64545639 0.64118723 0.63854442\n",
      " 0.63081927 0.62472047 0.6330555  0.64728603 0.6574507  0.66761537\n",
      " 0.66720878 0.64159382 0.62776987 0.63651149 0.63630819 0.62980281\n",
      " 0.62817646 0.63813783 0.65358813 0.63183574 0.57653995 0.57816629\n",
      " 0.57613336 0.61943484 0.57979264 0.57288067 0.62573694 0.63102257\n",
      " 0.6361049  0.62776987 0.6269567  0.63590161 0.62594023 0.6391543\n",
      " 0.62614353 0.62268754 0.60853177 0.5792774  0.54594535 0.51734704\n",
      " 0.49387455 0.4747107  0.45903334 0.4460111 ]\n"
     ]
    },
    {
     "name": "stdout",
     "output_type": "stream",
     "text": [
      "8 day output [[0.4346308]]\n",
      "9 day input [0.67310429 0.68428542 0.68936776 0.70217524 0.71803212 0.72941655\n",
      " 0.73144948 0.74486684 0.76926205 0.75991055 0.74242732 0.73958122\n",
      " 0.74771295 0.75991055 0.7584875  0.76621264 0.75462492 0.76316324\n",
      " 0.79670665 0.80585485 0.7889815  0.78003659 0.73978451 0.73002643\n",
      " 0.73490547 0.74872942 0.75991055 0.75462492 0.75401504 0.76174019\n",
      " 0.7737345  0.82008538 0.80585485 0.81154706 0.77434438 0.78633869\n",
      " 0.79284407 0.78328929 0.77109169 0.74385038 0.71193332 0.68733482\n",
      " 0.67818662 0.65257166 0.64301687 0.65643423 0.67656028 0.67371417\n",
      " 0.65114861 0.65521447 0.66761537 0.67838992 0.69993901 0.63122586\n",
      " 0.63508843 0.64098394 0.64545639 0.64118723 0.63854442 0.63081927\n",
      " 0.62472047 0.6330555  0.64728603 0.6574507  0.66761537 0.66720878\n",
      " 0.64159382 0.62776987 0.63651149 0.63630819 0.62980281 0.62817646\n",
      " 0.63813783 0.65358813 0.63183574 0.57653995 0.57816629 0.57613336\n",
      " 0.61943484 0.57979264 0.57288067 0.62573694 0.63102257 0.6361049\n",
      " 0.62776987 0.6269567  0.63590161 0.62594023 0.6391543  0.62614353\n",
      " 0.62268754 0.60853177 0.5792774  0.54594535 0.51734704 0.49387455\n",
      " 0.4747107  0.45903334 0.4460111  0.43463081]\n",
      "9 day output [[0.42417425]]\n",
      "10 day input [0.68428542 0.68936776 0.70217524 0.71803212 0.72941655 0.73144948\n",
      " 0.74486684 0.76926205 0.75991055 0.74242732 0.73958122 0.74771295\n",
      " 0.75991055 0.7584875  0.76621264 0.75462492 0.76316324 0.79670665\n",
      " 0.80585485 0.7889815  0.78003659 0.73978451 0.73002643 0.73490547\n",
      " 0.74872942 0.75991055 0.75462492 0.75401504 0.76174019 0.7737345\n",
      " 0.82008538 0.80585485 0.81154706 0.77434438 0.78633869 0.79284407\n",
      " 0.78328929 0.77109169 0.74385038 0.71193332 0.68733482 0.67818662\n",
      " 0.65257166 0.64301687 0.65643423 0.67656028 0.67371417 0.65114861\n",
      " 0.65521447 0.66761537 0.67838992 0.69993901 0.63122586 0.63508843\n",
      " 0.64098394 0.64545639 0.64118723 0.63854442 0.63081927 0.62472047\n",
      " 0.6330555  0.64728603 0.6574507  0.66761537 0.66720878 0.64159382\n",
      " 0.62776987 0.63651149 0.63630819 0.62980281 0.62817646 0.63813783\n",
      " 0.65358813 0.63183574 0.57653995 0.57816629 0.57613336 0.61943484\n",
      " 0.57979264 0.57288067 0.62573694 0.63102257 0.6361049  0.62776987\n",
      " 0.6269567  0.63590161 0.62594023 0.6391543  0.62614353 0.62268754\n",
      " 0.60853177 0.5792774  0.54594535 0.51734704 0.49387455 0.4747107\n",
      " 0.45903334 0.4460111  0.43463081 0.42417425]\n",
      "10 day output [[0.41388288]]\n",
      "11 day input [0.68936776 0.70217524 0.71803212 0.72941655 0.73144948 0.74486684\n",
      " 0.76926205 0.75991055 0.74242732 0.73958122 0.74771295 0.75991055\n",
      " 0.7584875  0.76621264 0.75462492 0.76316324 0.79670665 0.80585485\n",
      " 0.7889815  0.78003659 0.73978451 0.73002643 0.73490547 0.74872942\n",
      " 0.75991055 0.75462492 0.75401504 0.76174019 0.7737345  0.82008538\n",
      " 0.80585485 0.81154706 0.77434438 0.78633869 0.79284407 0.78328929\n",
      " 0.77109169 0.74385038 0.71193332 0.68733482 0.67818662 0.65257166\n",
      " 0.64301687 0.65643423 0.67656028 0.67371417 0.65114861 0.65521447\n",
      " 0.66761537 0.67838992 0.69993901 0.63122586 0.63508843 0.64098394\n",
      " 0.64545639 0.64118723 0.63854442 0.63081927 0.62472047 0.6330555\n",
      " 0.64728603 0.6574507  0.66761537 0.66720878 0.64159382 0.62776987\n",
      " 0.63651149 0.63630819 0.62980281 0.62817646 0.63813783 0.65358813\n",
      " 0.63183574 0.57653995 0.57816629 0.57613336 0.61943484 0.57979264\n",
      " 0.57288067 0.62573694 0.63102257 0.6361049  0.62776987 0.6269567\n",
      " 0.63590161 0.62594023 0.6391543  0.62614353 0.62268754 0.60853177\n",
      " 0.5792774  0.54594535 0.51734704 0.49387455 0.4747107  0.45903334\n",
      " 0.4460111  0.43463081 0.42417425 0.41388288]\n",
      "11 day output [[0.40342045]]\n",
      "12 day input [0.70217524 0.71803212 0.72941655 0.73144948 0.74486684 0.76926205\n",
      " 0.75991055 0.74242732 0.73958122 0.74771295 0.75991055 0.7584875\n",
      " 0.76621264 0.75462492 0.76316324 0.79670665 0.80585485 0.7889815\n",
      " 0.78003659 0.73978451 0.73002643 0.73490547 0.74872942 0.75991055\n",
      " 0.75462492 0.75401504 0.76174019 0.7737345  0.82008538 0.80585485\n",
      " 0.81154706 0.77434438 0.78633869 0.79284407 0.78328929 0.77109169\n",
      " 0.74385038 0.71193332 0.68733482 0.67818662 0.65257166 0.64301687\n",
      " 0.65643423 0.67656028 0.67371417 0.65114861 0.65521447 0.66761537\n",
      " 0.67838992 0.69993901 0.63122586 0.63508843 0.64098394 0.64545639\n",
      " 0.64118723 0.63854442 0.63081927 0.62472047 0.6330555  0.64728603\n",
      " 0.6574507  0.66761537 0.66720878 0.64159382 0.62776987 0.63651149\n",
      " 0.63630819 0.62980281 0.62817646 0.63813783 0.65358813 0.63183574\n",
      " 0.57653995 0.57816629 0.57613336 0.61943484 0.57979264 0.57288067\n",
      " 0.62573694 0.63102257 0.6361049  0.62776987 0.6269567  0.63590161\n",
      " 0.62594023 0.6391543  0.62614353 0.62268754 0.60853177 0.5792774\n",
      " 0.54594535 0.51734704 0.49387455 0.4747107  0.45903334 0.4460111\n",
      " 0.43463081 0.42417425 0.41388288 0.40342045]\n",
      "12 day output [[0.39290786]]\n",
      "13 day input [0.71803212 0.72941655 0.73144948 0.74486684 0.76926205 0.75991055\n",
      " 0.74242732 0.73958122 0.74771295 0.75991055 0.7584875  0.76621264\n",
      " 0.75462492 0.76316324 0.79670665 0.80585485 0.7889815  0.78003659\n",
      " 0.73978451 0.73002643 0.73490547 0.74872942 0.75991055 0.75462492\n",
      " 0.75401504 0.76174019 0.7737345  0.82008538 0.80585485 0.81154706\n",
      " 0.77434438 0.78633869 0.79284407 0.78328929 0.77109169 0.74385038\n",
      " 0.71193332 0.68733482 0.67818662 0.65257166 0.64301687 0.65643423\n",
      " 0.67656028 0.67371417 0.65114861 0.65521447 0.66761537 0.67838992\n",
      " 0.69993901 0.63122586 0.63508843 0.64098394 0.64545639 0.64118723\n",
      " 0.63854442 0.63081927 0.62472047 0.6330555  0.64728603 0.6574507\n",
      " 0.66761537 0.66720878 0.64159382 0.62776987 0.63651149 0.63630819\n",
      " 0.62980281 0.62817646 0.63813783 0.65358813 0.63183574 0.57653995\n",
      " 0.57816629 0.57613336 0.61943484 0.57979264 0.57288067 0.62573694\n",
      " 0.63102257 0.6361049  0.62776987 0.6269567  0.63590161 0.62594023\n",
      " 0.6391543  0.62614353 0.62268754 0.60853177 0.5792774  0.54594535\n",
      " 0.51734704 0.49387455 0.4747107  0.45903334 0.4460111  0.43463081\n",
      " 0.42417425 0.41388288 0.40342045 0.39290786]\n",
      "13 day output [[0.3825207]]\n",
      "14 day input [0.72941655 0.73144948 0.74486684 0.76926205 0.75991055 0.74242732\n",
      " 0.73958122 0.74771295 0.75991055 0.7584875  0.76621264 0.75462492\n",
      " 0.76316324 0.79670665 0.80585485 0.7889815  0.78003659 0.73978451\n",
      " 0.73002643 0.73490547 0.74872942 0.75991055 0.75462492 0.75401504\n",
      " 0.76174019 0.7737345  0.82008538 0.80585485 0.81154706 0.77434438\n",
      " 0.78633869 0.79284407 0.78328929 0.77109169 0.74385038 0.71193332\n",
      " 0.68733482 0.67818662 0.65257166 0.64301687 0.65643423 0.67656028\n",
      " 0.67371417 0.65114861 0.65521447 0.66761537 0.67838992 0.69993901\n",
      " 0.63122586 0.63508843 0.64098394 0.64545639 0.64118723 0.63854442\n",
      " 0.63081927 0.62472047 0.6330555  0.64728603 0.6574507  0.66761537\n",
      " 0.66720878 0.64159382 0.62776987 0.63651149 0.63630819 0.62980281\n",
      " 0.62817646 0.63813783 0.65358813 0.63183574 0.57653995 0.57816629\n",
      " 0.57613336 0.61943484 0.57979264 0.57288067 0.62573694 0.63102257\n",
      " 0.6361049  0.62776987 0.6269567  0.63590161 0.62594023 0.6391543\n",
      " 0.62614353 0.62268754 0.60853177 0.5792774  0.54594535 0.51734704\n",
      " 0.49387455 0.4747107  0.45903334 0.4460111  0.43463081 0.42417425\n",
      " 0.41388288 0.40342045 0.39290786 0.38252071]\n",
      "14 day output [[0.37248722]]\n",
      "15 day input [0.73144948 0.74486684 0.76926205 0.75991055 0.74242732 0.73958122\n",
      " 0.74771295 0.75991055 0.7584875  0.76621264 0.75462492 0.76316324\n",
      " 0.79670665 0.80585485 0.7889815  0.78003659 0.73978451 0.73002643\n",
      " 0.73490547 0.74872942 0.75991055 0.75462492 0.75401504 0.76174019\n",
      " 0.7737345  0.82008538 0.80585485 0.81154706 0.77434438 0.78633869\n",
      " 0.79284407 0.78328929 0.77109169 0.74385038 0.71193332 0.68733482\n",
      " 0.67818662 0.65257166 0.64301687 0.65643423 0.67656028 0.67371417\n",
      " 0.65114861 0.65521447 0.66761537 0.67838992 0.69993901 0.63122586\n",
      " 0.63508843 0.64098394 0.64545639 0.64118723 0.63854442 0.63081927\n",
      " 0.62472047 0.6330555  0.64728603 0.6574507  0.66761537 0.66720878\n",
      " 0.64159382 0.62776987 0.63651149 0.63630819 0.62980281 0.62817646\n",
      " 0.63813783 0.65358813 0.63183574 0.57653995 0.57816629 0.57613336\n",
      " 0.61943484 0.57979264 0.57288067 0.62573694 0.63102257 0.6361049\n",
      " 0.62776987 0.6269567  0.63590161 0.62594023 0.6391543  0.62614353\n",
      " 0.62268754 0.60853177 0.5792774  0.54594535 0.51734704 0.49387455\n",
      " 0.4747107  0.45903334 0.4460111  0.43463081 0.42417425 0.41388288\n",
      " 0.40342045 0.39290786 0.38252071 0.37248722]\n",
      "15 day output [[0.3630698]]\n",
      "16 day input [0.74486684 0.76926205 0.75991055 0.74242732 0.73958122 0.74771295\n",
      " 0.75991055 0.7584875  0.76621264 0.75462492 0.76316324 0.79670665\n",
      " 0.80585485 0.7889815  0.78003659 0.73978451 0.73002643 0.73490547\n",
      " 0.74872942 0.75991055 0.75462492 0.75401504 0.76174019 0.7737345\n",
      " 0.82008538 0.80585485 0.81154706 0.77434438 0.78633869 0.79284407\n",
      " 0.78328929 0.77109169 0.74385038 0.71193332 0.68733482 0.67818662\n",
      " 0.65257166 0.64301687 0.65643423 0.67656028 0.67371417 0.65114861\n",
      " 0.65521447 0.66761537 0.67838992 0.69993901 0.63122586 0.63508843\n",
      " 0.64098394 0.64545639 0.64118723 0.63854442 0.63081927 0.62472047\n",
      " 0.6330555  0.64728603 0.6574507  0.66761537 0.66720878 0.64159382\n",
      " 0.62776987 0.63651149 0.63630819 0.62980281 0.62817646 0.63813783\n",
      " 0.65358813 0.63183574 0.57653995 0.57816629 0.57613336 0.61943484\n",
      " 0.57979264 0.57288067 0.62573694 0.63102257 0.6361049  0.62776987\n",
      " 0.6269567  0.63590161 0.62594023 0.6391543  0.62614353 0.62268754\n",
      " 0.60853177 0.5792774  0.54594535 0.51734704 0.49387455 0.4747107\n",
      " 0.45903334 0.4460111  0.43463081 0.42417425 0.41388288 0.40342045\n",
      " 0.39290786 0.38252071 0.37248722 0.3630698 ]\n"
     ]
    },
    {
     "name": "stdout",
     "output_type": "stream",
     "text": [
      "16 day output [[0.35452756]]\n",
      "17 day input [0.76926205 0.75991055 0.74242732 0.73958122 0.74771295 0.75991055\n",
      " 0.7584875  0.76621264 0.75462492 0.76316324 0.79670665 0.80585485\n",
      " 0.7889815  0.78003659 0.73978451 0.73002643 0.73490547 0.74872942\n",
      " 0.75991055 0.75462492 0.75401504 0.76174019 0.7737345  0.82008538\n",
      " 0.80585485 0.81154706 0.77434438 0.78633869 0.79284407 0.78328929\n",
      " 0.77109169 0.74385038 0.71193332 0.68733482 0.67818662 0.65257166\n",
      " 0.64301687 0.65643423 0.67656028 0.67371417 0.65114861 0.65521447\n",
      " 0.66761537 0.67838992 0.69993901 0.63122586 0.63508843 0.64098394\n",
      " 0.64545639 0.64118723 0.63854442 0.63081927 0.62472047 0.6330555\n",
      " 0.64728603 0.6574507  0.66761537 0.66720878 0.64159382 0.62776987\n",
      " 0.63651149 0.63630819 0.62980281 0.62817646 0.63813783 0.65358813\n",
      " 0.63183574 0.57653995 0.57816629 0.57613336 0.61943484 0.57979264\n",
      " 0.57288067 0.62573694 0.63102257 0.6361049  0.62776987 0.6269567\n",
      " 0.63590161 0.62594023 0.6391543  0.62614353 0.62268754 0.60853177\n",
      " 0.5792774  0.54594535 0.51734704 0.49387455 0.4747107  0.45903334\n",
      " 0.4460111  0.43463081 0.42417425 0.41388288 0.40342045 0.39290786\n",
      " 0.38252071 0.37248722 0.3630698  0.35452756]\n",
      "17 day output [[0.34684685]]\n",
      "18 day input [0.75991055 0.74242732 0.73958122 0.74771295 0.75991055 0.7584875\n",
      " 0.76621264 0.75462492 0.76316324 0.79670665 0.80585485 0.7889815\n",
      " 0.78003659 0.73978451 0.73002643 0.73490547 0.74872942 0.75991055\n",
      " 0.75462492 0.75401504 0.76174019 0.7737345  0.82008538 0.80585485\n",
      " 0.81154706 0.77434438 0.78633869 0.79284407 0.78328929 0.77109169\n",
      " 0.74385038 0.71193332 0.68733482 0.67818662 0.65257166 0.64301687\n",
      " 0.65643423 0.67656028 0.67371417 0.65114861 0.65521447 0.66761537\n",
      " 0.67838992 0.69993901 0.63122586 0.63508843 0.64098394 0.64545639\n",
      " 0.64118723 0.63854442 0.63081927 0.62472047 0.6330555  0.64728603\n",
      " 0.6574507  0.66761537 0.66720878 0.64159382 0.62776987 0.63651149\n",
      " 0.63630819 0.62980281 0.62817646 0.63813783 0.65358813 0.63183574\n",
      " 0.57653995 0.57816629 0.57613336 0.61943484 0.57979264 0.57288067\n",
      " 0.62573694 0.63102257 0.6361049  0.62776987 0.6269567  0.63590161\n",
      " 0.62594023 0.6391543  0.62614353 0.62268754 0.60853177 0.5792774\n",
      " 0.54594535 0.51734704 0.49387455 0.4747107  0.45903334 0.4460111\n",
      " 0.43463081 0.42417425 0.41388288 0.40342045 0.39290786 0.38252071\n",
      " 0.37248722 0.3630698  0.35452756 0.34684685]\n",
      "18 day output [[0.33997488]]\n",
      "19 day input [0.74242732 0.73958122 0.74771295 0.75991055 0.7584875  0.76621264\n",
      " 0.75462492 0.76316324 0.79670665 0.80585485 0.7889815  0.78003659\n",
      " 0.73978451 0.73002643 0.73490547 0.74872942 0.75991055 0.75462492\n",
      " 0.75401504 0.76174019 0.7737345  0.82008538 0.80585485 0.81154706\n",
      " 0.77434438 0.78633869 0.79284407 0.78328929 0.77109169 0.74385038\n",
      " 0.71193332 0.68733482 0.67818662 0.65257166 0.64301687 0.65643423\n",
      " 0.67656028 0.67371417 0.65114861 0.65521447 0.66761537 0.67838992\n",
      " 0.69993901 0.63122586 0.63508843 0.64098394 0.64545639 0.64118723\n",
      " 0.63854442 0.63081927 0.62472047 0.6330555  0.64728603 0.6574507\n",
      " 0.66761537 0.66720878 0.64159382 0.62776987 0.63651149 0.63630819\n",
      " 0.62980281 0.62817646 0.63813783 0.65358813 0.63183574 0.57653995\n",
      " 0.57816629 0.57613336 0.61943484 0.57979264 0.57288067 0.62573694\n",
      " 0.63102257 0.6361049  0.62776987 0.6269567  0.63590161 0.62594023\n",
      " 0.6391543  0.62614353 0.62268754 0.60853177 0.5792774  0.54594535\n",
      " 0.51734704 0.49387455 0.4747107  0.45903334 0.4460111  0.43463081\n",
      " 0.42417425 0.41388288 0.40342045 0.39290786 0.38252071 0.37248722\n",
      " 0.3630698  0.35452756 0.34684685 0.33997488]\n",
      "19 day output [[0.33383834]]\n",
      "20 day input [0.73958122 0.74771295 0.75991055 0.7584875  0.76621264 0.75462492\n",
      " 0.76316324 0.79670665 0.80585485 0.7889815  0.78003659 0.73978451\n",
      " 0.73002643 0.73490547 0.74872942 0.75991055 0.75462492 0.75401504\n",
      " 0.76174019 0.7737345  0.82008538 0.80585485 0.81154706 0.77434438\n",
      " 0.78633869 0.79284407 0.78328929 0.77109169 0.74385038 0.71193332\n",
      " 0.68733482 0.67818662 0.65257166 0.64301687 0.65643423 0.67656028\n",
      " 0.67371417 0.65114861 0.65521447 0.66761537 0.67838992 0.69993901\n",
      " 0.63122586 0.63508843 0.64098394 0.64545639 0.64118723 0.63854442\n",
      " 0.63081927 0.62472047 0.6330555  0.64728603 0.6574507  0.66761537\n",
      " 0.66720878 0.64159382 0.62776987 0.63651149 0.63630819 0.62980281\n",
      " 0.62817646 0.63813783 0.65358813 0.63183574 0.57653995 0.57816629\n",
      " 0.57613336 0.61943484 0.57979264 0.57288067 0.62573694 0.63102257\n",
      " 0.6361049  0.62776987 0.6269567  0.63590161 0.62594023 0.6391543\n",
      " 0.62614353 0.62268754 0.60853177 0.5792774  0.54594535 0.51734704\n",
      " 0.49387455 0.4747107  0.45903334 0.4460111  0.43463081 0.42417425\n",
      " 0.41388288 0.40342045 0.39290786 0.38252071 0.37248722 0.3630698\n",
      " 0.35452756 0.34684685 0.33997488 0.33383834]\n",
      "20 day output [[0.32835284]]\n",
      "21 day input [0.74771295 0.75991055 0.7584875  0.76621264 0.75462492 0.76316324\n",
      " 0.79670665 0.80585485 0.7889815  0.78003659 0.73978451 0.73002643\n",
      " 0.73490547 0.74872942 0.75991055 0.75462492 0.75401504 0.76174019\n",
      " 0.7737345  0.82008538 0.80585485 0.81154706 0.77434438 0.78633869\n",
      " 0.79284407 0.78328929 0.77109169 0.74385038 0.71193332 0.68733482\n",
      " 0.67818662 0.65257166 0.64301687 0.65643423 0.67656028 0.67371417\n",
      " 0.65114861 0.65521447 0.66761537 0.67838992 0.69993901 0.63122586\n",
      " 0.63508843 0.64098394 0.64545639 0.64118723 0.63854442 0.63081927\n",
      " 0.62472047 0.6330555  0.64728603 0.6574507  0.66761537 0.66720878\n",
      " 0.64159382 0.62776987 0.63651149 0.63630819 0.62980281 0.62817646\n",
      " 0.63813783 0.65358813 0.63183574 0.57653995 0.57816629 0.57613336\n",
      " 0.61943484 0.57979264 0.57288067 0.62573694 0.63102257 0.6361049\n",
      " 0.62776987 0.6269567  0.63590161 0.62594023 0.6391543  0.62614353\n",
      " 0.62268754 0.60853177 0.5792774  0.54594535 0.51734704 0.49387455\n",
      " 0.4747107  0.45903334 0.4460111  0.43463081 0.42417425 0.41388288\n",
      " 0.40342045 0.39290786 0.38252071 0.37248722 0.3630698  0.35452756\n",
      " 0.34684685 0.33997488 0.33383834 0.32835284]\n",
      "21 day output [[0.32343188]]\n",
      "22 day input [0.75991055 0.7584875  0.76621264 0.75462492 0.76316324 0.79670665\n",
      " 0.80585485 0.7889815  0.78003659 0.73978451 0.73002643 0.73490547\n",
      " 0.74872942 0.75991055 0.75462492 0.75401504 0.76174019 0.7737345\n",
      " 0.82008538 0.80585485 0.81154706 0.77434438 0.78633869 0.79284407\n",
      " 0.78328929 0.77109169 0.74385038 0.71193332 0.68733482 0.67818662\n",
      " 0.65257166 0.64301687 0.65643423 0.67656028 0.67371417 0.65114861\n",
      " 0.65521447 0.66761537 0.67838992 0.69993901 0.63122586 0.63508843\n",
      " 0.64098394 0.64545639 0.64118723 0.63854442 0.63081927 0.62472047\n",
      " 0.6330555  0.64728603 0.6574507  0.66761537 0.66720878 0.64159382\n",
      " 0.62776987 0.63651149 0.63630819 0.62980281 0.62817646 0.63813783\n",
      " 0.65358813 0.63183574 0.57653995 0.57816629 0.57613336 0.61943484\n",
      " 0.57979264 0.57288067 0.62573694 0.63102257 0.6361049  0.62776987\n",
      " 0.6269567  0.63590161 0.62594023 0.6391543  0.62614353 0.62268754\n",
      " 0.60853177 0.5792774  0.54594535 0.51734704 0.49387455 0.4747107\n",
      " 0.45903334 0.4460111  0.43463081 0.42417425 0.41388288 0.40342045\n",
      " 0.39290786 0.38252071 0.37248722 0.3630698  0.35452756 0.34684685\n",
      " 0.33997488 0.33383834 0.32835284 0.32343188]\n",
      "22 day output [[0.31899285]]\n",
      "23 day input [0.7584875  0.76621264 0.75462492 0.76316324 0.79670665 0.80585485\n",
      " 0.7889815  0.78003659 0.73978451 0.73002643 0.73490547 0.74872942\n",
      " 0.75991055 0.75462492 0.75401504 0.76174019 0.7737345  0.82008538\n",
      " 0.80585485 0.81154706 0.77434438 0.78633869 0.79284407 0.78328929\n",
      " 0.77109169 0.74385038 0.71193332 0.68733482 0.67818662 0.65257166\n",
      " 0.64301687 0.65643423 0.67656028 0.67371417 0.65114861 0.65521447\n",
      " 0.66761537 0.67838992 0.69993901 0.63122586 0.63508843 0.64098394\n",
      " 0.64545639 0.64118723 0.63854442 0.63081927 0.62472047 0.6330555\n",
      " 0.64728603 0.6574507  0.66761537 0.66720878 0.64159382 0.62776987\n",
      " 0.63651149 0.63630819 0.62980281 0.62817646 0.63813783 0.65358813\n",
      " 0.63183574 0.57653995 0.57816629 0.57613336 0.61943484 0.57979264\n",
      " 0.57288067 0.62573694 0.63102257 0.6361049  0.62776987 0.6269567\n",
      " 0.63590161 0.62594023 0.6391543  0.62614353 0.62268754 0.60853177\n",
      " 0.5792774  0.54594535 0.51734704 0.49387455 0.4747107  0.45903334\n",
      " 0.4460111  0.43463081 0.42417425 0.41388288 0.40342045 0.39290786\n",
      " 0.38252071 0.37248722 0.3630698  0.35452756 0.34684685 0.33997488\n",
      " 0.33383834 0.32835284 0.32343188 0.31899285]\n",
      "23 day output [[0.31496108]]\n",
      "24 day input [0.76621264 0.75462492 0.76316324 0.79670665 0.80585485 0.7889815\n",
      " 0.78003659 0.73978451 0.73002643 0.73490547 0.74872942 0.75991055\n",
      " 0.75462492 0.75401504 0.76174019 0.7737345  0.82008538 0.80585485\n",
      " 0.81154706 0.77434438 0.78633869 0.79284407 0.78328929 0.77109169\n",
      " 0.74385038 0.71193332 0.68733482 0.67818662 0.65257166 0.64301687\n",
      " 0.65643423 0.67656028 0.67371417 0.65114861 0.65521447 0.66761537\n",
      " 0.67838992 0.69993901 0.63122586 0.63508843 0.64098394 0.64545639\n",
      " 0.64118723 0.63854442 0.63081927 0.62472047 0.6330555  0.64728603\n",
      " 0.6574507  0.66761537 0.66720878 0.64159382 0.62776987 0.63651149\n",
      " 0.63630819 0.62980281 0.62817646 0.63813783 0.65358813 0.63183574\n",
      " 0.57653995 0.57816629 0.57613336 0.61943484 0.57979264 0.57288067\n",
      " 0.62573694 0.63102257 0.6361049  0.62776987 0.6269567  0.63590161\n",
      " 0.62594023 0.6391543  0.62614353 0.62268754 0.60853177 0.5792774\n",
      " 0.54594535 0.51734704 0.49387455 0.4747107  0.45903334 0.4460111\n",
      " 0.43463081 0.42417425 0.41388288 0.40342045 0.39290786 0.38252071\n",
      " 0.37248722 0.3630698  0.35452756 0.34684685 0.33997488 0.33383834\n",
      " 0.32835284 0.32343188 0.31899285 0.31496108]\n"
     ]
    },
    {
     "name": "stdout",
     "output_type": "stream",
     "text": [
      "24 day output [[0.31127203]]\n",
      "25 day input [0.75462492 0.76316324 0.79670665 0.80585485 0.7889815  0.78003659\n",
      " 0.73978451 0.73002643 0.73490547 0.74872942 0.75991055 0.75462492\n",
      " 0.75401504 0.76174019 0.7737345  0.82008538 0.80585485 0.81154706\n",
      " 0.77434438 0.78633869 0.79284407 0.78328929 0.77109169 0.74385038\n",
      " 0.71193332 0.68733482 0.67818662 0.65257166 0.64301687 0.65643423\n",
      " 0.67656028 0.67371417 0.65114861 0.65521447 0.66761537 0.67838992\n",
      " 0.69993901 0.63122586 0.63508843 0.64098394 0.64545639 0.64118723\n",
      " 0.63854442 0.63081927 0.62472047 0.6330555  0.64728603 0.6574507\n",
      " 0.66761537 0.66720878 0.64159382 0.62776987 0.63651149 0.63630819\n",
      " 0.62980281 0.62817646 0.63813783 0.65358813 0.63183574 0.57653995\n",
      " 0.57816629 0.57613336 0.61943484 0.57979264 0.57288067 0.62573694\n",
      " 0.63102257 0.6361049  0.62776987 0.6269567  0.63590161 0.62594023\n",
      " 0.6391543  0.62614353 0.62268754 0.60853177 0.5792774  0.54594535\n",
      " 0.51734704 0.49387455 0.4747107  0.45903334 0.4460111  0.43463081\n",
      " 0.42417425 0.41388288 0.40342045 0.39290786 0.38252071 0.37248722\n",
      " 0.3630698  0.35452756 0.34684685 0.33997488 0.33383834 0.32835284\n",
      " 0.32343188 0.31899285 0.31496108 0.31127203]\n",
      "25 day output [[0.3078721]]\n",
      "26 day input [0.76316324 0.79670665 0.80585485 0.7889815  0.78003659 0.73978451\n",
      " 0.73002643 0.73490547 0.74872942 0.75991055 0.75462492 0.75401504\n",
      " 0.76174019 0.7737345  0.82008538 0.80585485 0.81154706 0.77434438\n",
      " 0.78633869 0.79284407 0.78328929 0.77109169 0.74385038 0.71193332\n",
      " 0.68733482 0.67818662 0.65257166 0.64301687 0.65643423 0.67656028\n",
      " 0.67371417 0.65114861 0.65521447 0.66761537 0.67838992 0.69993901\n",
      " 0.63122586 0.63508843 0.64098394 0.64545639 0.64118723 0.63854442\n",
      " 0.63081927 0.62472047 0.6330555  0.64728603 0.6574507  0.66761537\n",
      " 0.66720878 0.64159382 0.62776987 0.63651149 0.63630819 0.62980281\n",
      " 0.62817646 0.63813783 0.65358813 0.63183574 0.57653995 0.57816629\n",
      " 0.57613336 0.61943484 0.57979264 0.57288067 0.62573694 0.63102257\n",
      " 0.6361049  0.62776987 0.6269567  0.63590161 0.62594023 0.6391543\n",
      " 0.62614353 0.62268754 0.60853177 0.5792774  0.54594535 0.51734704\n",
      " 0.49387455 0.4747107  0.45903334 0.4460111  0.43463081 0.42417425\n",
      " 0.41388288 0.40342045 0.39290786 0.38252071 0.37248722 0.3630698\n",
      " 0.35452756 0.34684685 0.33997488 0.33383834 0.32835284 0.32343188\n",
      " 0.31899285 0.31496108 0.31127203 0.30787209]\n",
      "26 day output [[0.30471808]]\n",
      "27 day input [0.79670665 0.80585485 0.7889815  0.78003659 0.73978451 0.73002643\n",
      " 0.73490547 0.74872942 0.75991055 0.75462492 0.75401504 0.76174019\n",
      " 0.7737345  0.82008538 0.80585485 0.81154706 0.77434438 0.78633869\n",
      " 0.79284407 0.78328929 0.77109169 0.74385038 0.71193332 0.68733482\n",
      " 0.67818662 0.65257166 0.64301687 0.65643423 0.67656028 0.67371417\n",
      " 0.65114861 0.65521447 0.66761537 0.67838992 0.69993901 0.63122586\n",
      " 0.63508843 0.64098394 0.64545639 0.64118723 0.63854442 0.63081927\n",
      " 0.62472047 0.6330555  0.64728603 0.6574507  0.66761537 0.66720878\n",
      " 0.64159382 0.62776987 0.63651149 0.63630819 0.62980281 0.62817646\n",
      " 0.63813783 0.65358813 0.63183574 0.57653995 0.57816629 0.57613336\n",
      " 0.61943484 0.57979264 0.57288067 0.62573694 0.63102257 0.6361049\n",
      " 0.62776987 0.6269567  0.63590161 0.62594023 0.6391543  0.62614353\n",
      " 0.62268754 0.60853177 0.5792774  0.54594535 0.51734704 0.49387455\n",
      " 0.4747107  0.45903334 0.4460111  0.43463081 0.42417425 0.41388288\n",
      " 0.40342045 0.39290786 0.38252071 0.37248722 0.3630698  0.35452756\n",
      " 0.34684685 0.33997488 0.33383834 0.32835284 0.32343188 0.31899285\n",
      " 0.31496108 0.31127203 0.30787209 0.30471808]\n",
      "27 day output [[0.301776]]\n",
      "[[0.6085317730903625], [0.5792773962020874], [0.5459453463554382], [0.5173470377922058], [0.49387454986572266], [0.47471070289611816], [0.459033340215683], [0.44601109623908997], [0.434630811214447], [0.4241742491722107], [0.41388288140296936], [0.40342044830322266], [0.39290785789489746], [0.3825207054615021], [0.37248721718788147], [0.3630698025226593], [0.3545275628566742], [0.3468468487262726], [0.33997488021850586], [0.3338383436203003], [0.32835283875465393], [0.3234318792819977], [0.31899285316467285], [0.3149610757827759], [0.3112720251083374], [0.30787208676338196], [0.3047180771827698], [0.3017759919166565]]\n"
     ]
    }
   ],
   "source": [
    "lst_output=[]\n",
    "n_steps=100\n",
    "nextNumberOfDays = 28\n",
    "i=0\n",
    "\n",
    "while(i<nextNumberOfDays):\n",
    "    \n",
    "    if(len(temp_input)>100):\n",
    "        x_input = np.array(temp_input[1:])\n",
    "        print(\"{} day input {}\".format(i,x_input))\n",
    "        \n",
    "        x_input = x_input.reshape(1,-1)\n",
    "        x_input = x_input.reshape((1, n_steps, 1))\n",
    "        yhat = model.predict(x_input, verbose=0)\n",
    "        print(\"{} day output {}\".format(i,yhat))\n",
    "        \n",
    "        temp_input.extend(yhat[0].tolist())\n",
    "        temp_input = temp_input[1:]\n",
    "        lst_output.extend(yhat.tolist())\n",
    "        i=i+1\n",
    "        \n",
    "    else:\n",
    "        x_input = x_input.reshape((1, n_steps,1))\n",
    "        yhat = model.predict(x_input, verbose=0)\n",
    "        print(yhat[0])\n",
    "        \n",
    "        temp_input.extend(yhat[0].tolist())\n",
    "        print(len(temp_input))\n",
    "        \n",
    "        lst_output.extend(yhat.tolist())\n",
    "        i=i+1\n",
    "    \n",
    "\n",
    "print(lst_output)"
   ]
  },
  {
   "cell_type": "code",
   "execution_count": 30,
   "id": "d8f5c443",
   "metadata": {},
   "outputs": [],
   "source": [
    "day_new = np.arange(1,101)\n",
    "day_pred = np.arange(101,129)"
   ]
  },
  {
   "cell_type": "code",
   "execution_count": 31,
   "id": "cbfad6d8",
   "metadata": {},
   "outputs": [
    {
     "data": {
      "text/plain": [
       "(100,)"
      ]
     },
     "execution_count": 31,
     "metadata": {},
     "output_type": "execute_result"
    }
   ],
   "source": [
    "day_new.shape"
   ]
  },
  {
   "cell_type": "code",
   "execution_count": 32,
   "id": "10d95961",
   "metadata": {},
   "outputs": [
    {
     "data": {
      "text/plain": [
       "(28,)"
      ]
     },
     "execution_count": 32,
     "metadata": {},
     "output_type": "execute_result"
    }
   ],
   "source": [
    "day_pred.shape"
   ]
  },
  {
   "cell_type": "code",
   "execution_count": 33,
   "id": "61cadb59",
   "metadata": {},
   "outputs": [],
   "source": [
    "df3 = df_high.tolist()\n",
    "df3.extend(lst_output)"
   ]
  },
  {
   "cell_type": "code",
   "execution_count": 34,
   "id": "23646f0c",
   "metadata": {},
   "outputs": [
    {
     "data": {
      "text/plain": [
       "2035"
      ]
     },
     "execution_count": 34,
     "metadata": {},
     "output_type": "execute_result"
    }
   ],
   "source": [
    "len(df_high)"
   ]
  },
  {
   "cell_type": "code",
   "execution_count": 35,
   "id": "36647a38",
   "metadata": {},
   "outputs": [
    {
     "data": {
      "text/plain": [
       "[<matplotlib.lines.Line2D at 0x2e4a169ee80>]"
      ]
     },
     "execution_count": 35,
     "metadata": {},
     "output_type": "execute_result"
    },
    {
     "data": {
      "image/png": "[encoded data removed]",
      "text/plain": [
       "<Figure size 432x288 with 1 Axes>"
      ]
     },
     "metadata": {
      "needs_background": "light"
     },
     "output_type": "display_data"
    }
   ],
   "source": [
    "plt.plot(day_new, scaler.inverse_transform(df_high[1935:]))\n",
    "plt.plot(day_pred, scaler.inverse_transform(lst_output))"
   ]
  },
  {
   "cell_type": "code",
   "execution_count": 36,
   "id": "1cb96658",
   "metadata": {},
   "outputs": [
    {
     "data": {
      "text/plain": [
       "[<matplotlib.lines.Line2D at 0x2e4a1759be0>]"
      ]
     },
     "execution_count": 36,
     "metadata": {},
     "output_type": "execute_result"
    },
    {
     "data": {
      "image/png": "[encoded data removed]",
      "text/plain": [
       "<Figure size 432x288 with 1 Axes>"
      ]
     },
     "metadata": {
      "needs_background": "light"
     },
     "output_type": "display_data"
    }
   ],
   "source": [
    "df3=df_high.tolist()\n",
    "df3.extend(lst_output)\n",
    "plt.plot(df3[2000:])"
   ]
  },
  {
   "cell_type": "code",
   "execution_count": 37,
   "id": "c6dd54ee",
   "metadata": {},
   "outputs": [],
   "source": [
    "df3=scaler.inverse_transform(df3).tolist()"
   ]
  },
  {
   "cell_type": "code",
   "execution_count": 38,
   "id": "47b9b4f3",
   "metadata": {},
   "outputs": [
    {
     "data": {
      "text/plain": [
       "[<matplotlib.lines.Line2D at 0x2e4a18ef790>]"
      ]
     },
     "execution_count": 38,
     "metadata": {},
     "output_type": "execute_result"
    },
    {
     "data": {
      "image/png": "[encoded data removed]",
      "text/plain": [
       "<Figure size 432x288 with 1 Axes>"
      ]
     },
     "metadata": {
      "needs_background": "light"
     },
     "output_type": "display_data"
    }
   ],
   "source": [
    "plt.plot(df3)"
   ]
  }
 ],
 "metadata": {
  "kernelspec": {
   "display_name": "Python 3 (ipykernel)",
   "language": "python",
   "name": "python3"
  },
  "language_info": {
   "codemirror_mode": {
    "name": "ipython",
    "version": 3
   },
   "file_extension": ".py",
   "mimetype": "text/x-python",
   "name": "python",
   "nbconvert_exporter": "python",
   "pygments_lexer": "ipython3",
   "version": "3.9.12"
  }
 },
 "nbformat": 4,
 "nbformat_minor": 5
}
